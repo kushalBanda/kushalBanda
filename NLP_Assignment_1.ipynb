{
  "nbformat": 4,
  "nbformat_minor": 0,
  "metadata": {
    "colab": {
      "provenance": [],
      "collapsed_sections": [],
      "authorship_tag": "ABX9TyMWKmwczfXftExc00UOUSfR",
      "include_colab_link": true
    },
    "kernelspec": {
      "name": "python3",
      "display_name": "Python 3"
    },
    "language_info": {
      "name": "python"
    }
  },
  "cells": [
    {
      "cell_type": "markdown",
      "metadata": {
        "id": "view-in-github",
        "colab_type": "text"
      },
      "source": [
        "<a href=\"https://colab.research.google.com/github/kushalBanda/kushalBanda/blob/main/NLP_Assignment_1.ipynb\" target=\"_parent\"><img src=\"https://colab.research.google.com/assets/colab-badge.svg\" alt=\"Open In Colab\"/></a>"
      ]
    },
    {
      "cell_type": "markdown",
      "source": [
        "# Importing Libraries"
      ],
      "metadata": {
        "id": "_zyAlSt0FvgX"
      }
    },
    {
      "cell_type": "code",
      "source": [
        "import numpy as np\n",
        "import matplotlib.pyplot as plt\n",
        "import pandas as pd"
      ],
      "metadata": {
        "id": "5qa3G6uxFvTg"
      },
      "execution_count": 28,
      "outputs": []
    },
    {
      "cell_type": "markdown",
      "source": [
        "# ***`Corpus - News Commentary`***"
      ],
      "metadata": {
        "id": "Na9iFwj2Vdeq"
      }
    },
    {
      "cell_type": "code",
      "execution_count": 29,
      "metadata": {
        "colab": {
          "base_uri": "https://localhost:8080/"
        },
        "id": "w2xiUZJLU_sH",
        "outputId": "5114fc09-4ba6-4200-9427-f6749ae1c72c"
      },
      "outputs": [
        {
          "output_type": "stream",
          "name": "stdout",
          "text": [
            "File Size is 0.06438541412353516 MB\n",
            "Number of Lines in the file is 1683\n",
            "Peak Memory Usage = 3587064\n",
            "User Mode Time = 524.174663\n",
            "System Mode Time = 23.582845\n"
          ]
        }
      ],
      "source": [
        "import resource\n",
        "import os\n",
        "\n",
        "file_name = \"/content/NLP_Corpus.txt\"\n",
        "\n",
        "print(f'File Size is {os.stat(file_name).st_size / (1024 * 1024)} MB')\n",
        "\n",
        "txt_file = open(file_name)\n",
        "\n",
        "count = 0\n",
        "\n",
        "for line in txt_file:\n",
        "    # we can process file line by line here, for simplicity I am taking count of lines\n",
        "    count += 1\n",
        "\n",
        "txt_file.close()\n",
        "\n",
        "print(f'Number of Lines in the file is {count}')\n",
        "\n",
        "print('Peak Memory Usage =', resource.getrusage(resource.RUSAGE_SELF).ru_maxrss)\n",
        "print('User Mode Time =', resource.getrusage(resource.RUSAGE_SELF).ru_utime)\n",
        "print('System Mode Time =', resource.getrusage(resource.RUSAGE_SELF).ru_stime)"
      ]
    },
    {
      "cell_type": "markdown",
      "source": [
        "# ***Importing Libraries***"
      ],
      "metadata": {
        "id": "VFmEq46FW-cI"
      }
    },
    {
      "cell_type": "code",
      "source": [
        "import tensorflow as tf\n",
        "from tensorflow.keras.layers.experimental.preprocessing import TextVectorization"
      ],
      "metadata": {
        "id": "ZAk5eUPRXBf-"
      },
      "execution_count": 30,
      "outputs": []
    },
    {
      "cell_type": "code",
      "source": [
        "file = open(\"/content/NLP_Corpus.txt\", \"r\")\n",
        "rawReadCorpus = file.read()\n",
        "print (\"Total no. of characters in read dataset: {}\".format(len(rawReadCorpus)))"
      ],
      "metadata": {
        "colab": {
          "base_uri": "https://localhost:8080/"
        },
        "id": "31aKeyDgWe5U",
        "outputId": "4d9065ef-6fdd-4e18-d961-b6b509e326fa"
      },
      "execution_count": 31,
      "outputs": [
        {
          "output_type": "stream",
          "name": "stdout",
          "text": [
            "Total no. of characters in read dataset: 65829\n"
          ]
        }
      ]
    },
    {
      "cell_type": "code",
      "source": [
        "import nltk\n",
        "nltk.download('punkt')\n",
        "from nltk.tokenize import word_tokenize,sent_tokenize"
      ],
      "metadata": {
        "colab": {
          "base_uri": "https://localhost:8080/"
        },
        "id": "NNArlOrhaQlY",
        "outputId": "0097c13b-c2b8-4aa4-f11e-3ab9673374c0"
      },
      "execution_count": 32,
      "outputs": [
        {
          "output_type": "stream",
          "name": "stderr",
          "text": [
            "[nltk_data] Downloading package punkt to /root/nltk_data...\n",
            "[nltk_data]   Package punkt is already up-to-date!\n"
          ]
        }
      ]
    },
    {
      "cell_type": "markdown",
      "source": [
        "### Text Vectorization "
      ],
      "metadata": {
        "id": "rUpBdGe-ntrZ"
      }
    },
    {
      "cell_type": "code",
      "source": [
        "# Use the default TextVectorization variables\n",
        "text_vectorizer = TextVectorization(max_tokens=None, # how many words in the vocabulary (all of the different words in your text)\n",
        "                                    standardize=\"lower_and_strip_punctuation\", # how to process text\n",
        "                                    split=\"whitespace\", # how to split tokens\n",
        "                                    ngrams=None, # create groups of n-words?\n",
        "                                    output_mode=\"int\", # how to map tokens to numbers\n",
        "                                    output_sequence_length=None) # how long should the output sequence of tokens be?\n",
        "                                    # pad_to_max_tokens=True) # Not valid if using max_tokens=None"
      ],
      "metadata": {
        "id": "KtthFsQxYyqd"
      },
      "execution_count": 33,
      "outputs": []
    },
    {
      "cell_type": "code",
      "source": [
        "rawReadCorpus"
      ],
      "metadata": {
        "colab": {
          "base_uri": "https://localhost:8080/",
          "height": 174
        },
        "id": "2ILXqW42ZHFN",
        "outputId": "f27a8a06-962c-4bc1-f572-a916dffc2885"
      },
      "execution_count": 34,
      "outputs": [
        {
          "output_type": "execute_result",
          "data": {
            "text/plain": [
              "'\\ufeff[Alice\\'s Adventures in Wonderland by Lewis Carroll 1865]\\n\\n\\nCHAPTER I. Down the Rabbit-Hole\\n\\n\\nAlice was beginning to get very tired of sitting by her sister on the\\nbank, and of having nothing to do: once or twice she had peeped into the\\nbook her sister was reading, but it had no pictures or conversations in\\nit, \\'and what is the use of a book,\\' thought Alice \\'without pictures or\\nconversation?\\'\\n\\n\\nSo she was considering in her own mind (as well as she could, for the\\nhot day made her feel very sleepy and stupid), whether the pleasure\\nof making a daisy-chain would be worth the trouble of getting up and\\npicking the daisies, when suddenly a White Rabbit with pink eyes ran\\nclose by her.\\n\\n\\nThere was nothing so VERY remarkable in that; nor did Alice think it so\\nVERY much out of the way to hear the Rabbit say to itself, \\'Oh dear!\\nOh dear! I shall be late!\\' (when she thought it over afterwards, it\\noccurred to her that she ought to have wondered at this, but at the time\\nit all seemed quite natural); but when the Rabbit actually TOOK A WATCH\\nOUT OF ITS WAISTCOAT-POCKET, and looked at it, and then hurried on,\\nAlice started to her feet, for it flashed across her mind that she had\\nnever before seen a rabbit with either a waistcoat-pocket, or a watch\\nto take out of it, and burning with curiosity, she ran across the field\\nafter it, and fortunately was just in time to see it pop down a large\\nrabbit-hole under the hedge.\\n\\n\\nIn another moment down went Alice after it, never once considering how\\nin the world she was to get out again.\\n\\n\\nThe rabbit-hole went straight on like a tunnel for some way, and then\\ndipped suddenly down, so suddenly that Alice had not a moment to think\\nabout stopping herself before she found herself falling down a very deep\\nwell.\\n\\n\\nEither the well was very deep, or she fell very slowly, for she had\\nplenty of time as she went down to look about her and to wonder what was\\ngoing to happen next. First, she tried to look down and make out what\\nshe was coming to, but it was too dark to see anything; then she\\nlooked at the sides of the well, and noticed that they were filled with\\ncupboards and book-shelves; here and there she saw maps and pictures\\nhung upon pegs. She took down a jar from one of the shelves as\\nshe passed; it was labelled \\'ORANGE MARMALADE\\', but to her great\\ndisappointment it was empty: she did not like to drop the jar for fear\\nof killing somebody, so managed to put it into one of the cupboards as\\nshe fell past it.\\n\\n\\n\\'Well!\\' thought Alice to herself, \\'after such a fall as this, I shall\\nthink nothing of tumbling down stairs! How brave they\\'ll all think me at\\nhome! Why, I wouldn\\'t say anything about it, even if I fell off the top\\nof the house!\\' (Which was very likely true.)\\n\\n\\nDown, down, down. Would the fall NEVER come to an end! \\'I wonder how\\nmany miles I\\'ve fallen by this time?\\' she said aloud. \\'I must be getting\\nsomewhere near the centre of the earth. Let me see: that would be four\\nthousand miles down, I think--\\' (for, you see, Alice had learnt several\\nthings of this sort in her lessons in the schoolroom, and though this\\nwas not a VERY good opportunity for showing off her knowledge, as there\\nwas no one to listen to her, still it was good practice to say it over)\\n\\'--yes, that\\'s about the right distance--but then I wonder what Latitude\\nor Longitude I\\'ve got to?\\' (Alice had no idea what Latitude was, or\\nLongitude either, but thought they were nice grand words to say.)\\n\\n\\nPresently she began again. \\'I wonder if I shall fall right THROUGH the\\nearth! How funny it\\'ll seem to come out among the people that walk with\\ntheir heads downward! The Antipathies, I think--\\' (she was rather glad\\nthere WAS no one listening, this time, as it didn\\'t sound at all the\\nright word) \\'--but I shall have to ask them what the name of the country\\nis, you know. Please, Ma\\'am, is this New Zealand or Australia?\\' (and\\nshe tried to curtsey as she spoke--fancy CURTSEYING as you\\'re falling\\nthrough the air! Do you think you could manage it?) \\'And what an\\nignorant little girl she\\'ll think me for asking! No, it\\'ll never do to\\nask: perhaps I shall see it written up somewhere.\\'\\n\\n\\nDown, down, down. There was nothing else to do, so Alice soon began\\ntalking again. \\'Dinah\\'ll miss me very much to-night, I should think!\\'\\n(Dinah was the cat.) \\'I hope they\\'ll remember her saucer of milk at\\ntea-time. Dinah my dear! I wish you were down here with me! There are no\\nmice in the air, I\\'m afraid, but you might catch a bat, and that\\'s very\\nlike a mouse, you know. But do cats eat bats, I wonder?\\' And here Alice\\nbegan to get rather sleepy, and went on saying to herself, in a dreamy\\nsort of way, \\'Do cats eat bats? Do cats eat bats?\\' and sometimes, \\'Do\\nbats eat cats?\\' for, you see, as she couldn\\'t answer either question,\\nit didn\\'t much matter which way she put it. She felt that she was dozing\\noff, and had just begun to dream that she was walking hand in hand with\\nDinah, and saying to her very earnestly, \\'Now, Dinah, tell me the truth:\\ndid you ever eat a bat?\\' when suddenly, thump! thump! down she came upon\\na heap of sticks and dry leaves, and the fall was over.\\n\\n\\nAlice was not a bit hurt, and she jumped up on to her feet in a moment:\\nshe looked up, but it was all dark overhead; before her was another\\nlong passage, and the White Rabbit was still in sight, hurrying down it.\\nThere was not a moment to be lost: away went Alice like the wind, and\\nwas just in time to hear it say, as it turned a corner, \\'Oh my ears\\nand whiskers, how late it\\'s getting!\\' She was close behind it when she\\nturned the corner, but the Rabbit was no longer to be seen: she found\\nherself in a long, low hall, which was lit up by a row of lamps hanging\\nfrom the roof.\\n\\n\\nThere were doors all round the hall, but they were all locked; and when\\nAlice had been all the way down one side and up the other, trying every\\ndoor, she walked sadly down the middle, wondering how she was ever to\\nget out again.\\n\\n\\nSuddenly she came upon a little three-legged table, all made of solid\\nglass; there was nothing on it except a tiny golden key, and Alice\\'s\\nfirst thought was that it might belong to one of the doors of the hall;\\nbut, alas! either the locks were too large, or the key was too small,\\nbut at any rate it would not open any of them. However, on the second\\ntime round, she came upon a low curtain she had not noticed before, and\\nbehind it was a little door about fifteen inches high: she tried the\\nlittle golden key in the lock, and to her great delight it fitted!\\n\\n\\nAlice opened the door and found that it led into a small passage, not\\nmuch larger than a rat-hole: she knelt down and looked along the passage\\ninto the loveliest garden you ever saw. How she longed to get out of\\nthat dark hall, and wander about among those beds of bright flowers and\\nthose cool fountains, but she could not even get her head through the\\ndoorway; \\'and even if my head would go through,\\' thought poor Alice, \\'it\\nwould be of very little use without my shoulders. Oh, how I wish I could\\nshut up like a telescope! I think I could, if I only know how to begin.\\'\\nFor, you see, so many out-of-the-way things had happened lately,\\nthat Alice had begun to think that very few things indeed were really\\nimpossible.\\n\\n\\nThere seemed to be no use in waiting by the little door, so she went\\nback to the table, half hoping she might find another key on it, or at\\nany rate a book of rules for shutting people up like telescopes: this\\ntime she found a little bottle on it, (\\'which certainly was not here\\nbefore,\\' said Alice,) and round the neck of the bottle was a paper\\nlabel, with the words \\'DRINK ME\\' beautifully printed on it in large\\nletters.\\n\\n\\nIt was all very well to say \\'Drink me,\\' but the wise little Alice was\\nnot going to do THAT in a hurry. \\'No, I\\'ll look first,\\' she said, \\'and\\nsee whether it\\'s marked \"poison\" or not\\'; for she had read several nice\\nlittle histories about children who had got burnt, and eaten up by wild\\nbeasts and other unpleasant things, all because they WOULD not remember\\nthe simple rules their friends had taught them: such as, that a red-hot\\npoker will burn you if you hold it too long; and that if you cut your\\nfinger VERY deeply with a knife, it usually bleeds; and she had never\\nforgotten that, if you drink much from a bottle marked \\'poison,\\' it is\\nalmost certain to disagree with you, sooner or later.\\n\\n\\nHowever, this bottle was NOT marked \\'poison,\\' so Alice ventured to taste\\nit, and finding it very nice, (it had, in fact, a sort of mixed flavour\\nof cherry-tart, custard, pine-apple, roast turkey, toffee, and hot\\nbuttered toast,) she very soon finished it off.\\n\\n\\n  *    *    *    *    *    *    *\\n\\n\\n    *    *    *    *    *    *\\n\\n\\n  *    *    *    *    *    *    *\\n\\n\\n\\'What a curious feeling!\\' said Alice; \\'I must be shutting up like a\\ntelescope.\\'\\n\\n\\nAnd so it was indeed: she was now only ten inches high, and her face\\nbrightened up at the thought that she was now the right size for going\\nthrough the little door into that lovely garden. First, however, she\\nwaited for a few minutes to see if she was going to shrink any further:\\nshe felt a little nervous about this; \\'for it might end, you know,\\' said\\nAlice to herself, \\'in my going out altogether, like a candle. I wonder\\nwhat I should be like then?\\' And she tried to fancy what the flame of a\\ncandle is like after the candle is blown out, for she could not remember\\never having seen such a thing.\\n\\n\\nAfter a while, finding that nothing more happened, she decided on going\\ninto the garden at once; but, alas for poor Alice! when she got to the\\ndoor, she found she had forgotten the little golden key, and when she\\nwent back to the table for it, she found she could not possibly reach\\nit: she could see it quite plainly through the glass, and she tried her\\nbest to climb up one of the legs of the table, but it was too slippery;\\nand when she had tired herself out with trying, the poor little thing\\nsat down and cried.\\n\\n\\n\\'Come, there\\'s no use in crying like that!\\' said Alice to herself,\\nrather sharply; \\'I advise you to leave off this minute!\\' She generally\\ngave herself very good advice, (though she very seldom followed it),\\nand sometimes she scolded herself so severely as to bring tears into\\nher eyes; and once she remembered trying to box her own ears for having\\ncheated herself in a game of croquet she was playing against herself,\\nfor this curious child was very fond of pretending to be two people.\\n\\'But it\\'s no use now,\\' thought poor Alice, \\'to pretend to be two people!\\nWhy, there\\'s hardly enough of me left to make ONE respectable person!\\'\\n\\n\\nSoon her eye fell on a little glass box that was lying under the table:\\nshe opened it, and found in it a very small cake, on which the words\\n\\'EAT ME\\' were beautifully marked in currants. \\'Well, I\\'ll eat it,\\' said\\nAlice, \\'and if it makes me grow larger, I can reach the key; and if it\\nmakes me grow smaller, I can creep under the door; so either way I\\'ll\\nget into the garden, and I don\\'t care which happens!\\'\\n\\n\\nShe ate a little bit, and said anxiously to herself, \\'Which way? Which\\nway?\\', holding her hand on the top of her head to feel which way it was\\ngrowing, and she was quite surprised to find that she remained the same\\nsize: to be sure, this generally happens when one eats cake, but Alice\\nhad got so much into the way of expecting nothing but out-of-the-way\\nthings to happen, that it seemed quite dull and stupid for life to go on\\nin the common way.\\n\\n\\nSo she set to work, and very soon finished off the cake.\\n\\n\\n  *    *    *    *    *    *    *\\n\\n\\n    *    *    *    *    *    *\\n\\n\\n  *    *    *    *    *    *    *\\n\\n\\n\\n\\n\\n\\n\\n\\nCHAPTER II. The Pool of Tears\\n\\n\\n\\'Curiouser and curiouser!\\' cried Alice (she was so much surprised, that\\nfor the moment she quite forgot how to speak good English); \\'now I\\'m\\nopening out like the largest telescope that ever was! Good-bye, feet!\\'\\n(for when she looked down at her feet, they seemed to be almost out of\\nsight, they were getting so far off). \\'Oh, my poor little feet, I wonder\\nwho will put on your shoes and stockings for you now, dears? I\\'m sure\\n_I_ shan\\'t be able! I shall be a great deal too far off to trouble\\nmyself about you: you must manage the best way you can;--but I must be\\nkind to them,\\' thought Alice, \\'or perhaps they won\\'t walk the way I want\\nto go! Let me see: I\\'ll give them a new pair of boots every Christmas.\\'\\n\\n\\nAnd she went on planning to herself how she would manage it. \\'They must\\ngo by the carrier,\\' she thought; \\'and how funny it\\'ll seem, sending\\npresents to one\\'s own feet! And how odd the directions will look!\\n\\n\\n     ALICE\\'S RIGHT FOOT, ESQ.\\n       HEARTHRUG,\\n         NEAR THE FENDER,\\n           (WITH ALICE\\'S LOVE).\\n\\n\\nOh dear, what nonsense I\\'m talking!\\'\\n\\n\\nJust then her head struck against the roof of the hall: in fact she was\\nnow more than nine feet high, and she at once took up the little golden\\nkey and hurried off to the garden door.\\n\\n\\nPoor Alice! It was as much as she could do, lying down on one side, to\\nlook through into the garden with one eye; but to get through was more\\nhopeless than ever: she sat down and began to cry again.\\n\\n\\n\\'You ought to be ashamed of yourself,\\' said Alice, \\'a great girl like\\nyou,\\' (she might well say this), \\'to go on crying in this way! Stop this\\nmoment, I tell you!\\' But she went on all the same, shedding gallons of\\ntears, until there was a large pool all round her, about four inches\\ndeep and reaching half down the hall.\\n\\n\\nAfter a time she heard a little pattering of feet in the distance, and\\nshe hastily dried her eyes to see what was coming. It was the White\\nRabbit returning, splendidly dressed, with a pair of white kid gloves in\\none hand and a large fan in the other: he came trotting along in a great\\nhurry, muttering to himself as he came, \\'Oh! the Duchess, the Duchess!\\nOh! won\\'t she be savage if I\\'ve kept her waiting!\\' Alice felt so\\ndesperate that she was ready to ask help of any one; so, when the Rabbit\\ncame near her, she began, in a low, timid voice, \\'If you please, sir--\\'\\nThe Rabbit started violently, dropped the white kid gloves and the fan,\\nand skurried away into the darkness as hard as he could go.\\n\\n\\nAlice took up the fan and gloves, and, as the hall was very hot, she\\nkept fanning herself all the time she went on talking: \\'Dear, dear! How\\nqueer everything is to-day! And yesterday things went on just as usual.\\nI wonder if I\\'ve been changed in the night? Let me think: was I the\\nsame when I got up this morning? I almost think I can remember feeling a\\nlittle different. But if I\\'m not the same, the next question is, Who\\nin the world am I? Ah, THAT\\'S the great puzzle!\\' And she began thinking\\nover all the children she knew that were of the same age as herself, to\\nsee if she could have been changed for any of them.\\n\\n\\n\\'I\\'m sure I\\'m not Ada,\\' she said, \\'for her hair goes in such long\\nringlets, and mine doesn\\'t go in ringlets at all; and I\\'m sure I can\\'t\\nbe Mabel, for I know all sorts of things, and she, oh! she knows such a\\nvery little! Besides, SHE\\'S she, and I\\'m I, and--oh dear, how puzzling\\nit all is! I\\'ll try if I know all the things I used to know. Let me\\nsee: four times five is twelve, and four times six is thirteen, and\\nfour times seven is--oh dear! I shall never get to twenty at that rate!\\nHowever, the Multiplication Table doesn\\'t signify: let\\'s try Geography.\\nLondon is the capital of Paris, and Paris is the capital of Rome, and\\nRome--no, THAT\\'S all wrong, I\\'m certain! I must have been changed for\\nMabel! I\\'ll try and say \"How doth the little--\"\\' and she crossed her\\nhands on her lap as if she were saying lessons, and began to repeat it,\\nbut her voice sounded hoarse and strange, and the words did not come the\\nsame as they used to do:--\\n\\n\\n     \\'How doth the little crocodile\\n      Improve his shining tail,\\n     And pour the waters of the Nile\\n      On every golden scale!\\n\\n\\n     \\'How cheerfully he seems to grin,\\n      How neatly spread his claws,\\n     And welcome little fishes in\\n      With gently smiling jaws!\\'\\n\\n\\n\\'I\\'m sure those are not the right words,\\' said poor Alice, and her eyes\\nfilled with tears again as she went on, \\'I must be Mabel after all, and\\nI shall have to go and live in that poky little house, and have next to\\nno toys to play with, and oh! ever so many lessons to learn! No, I\\'ve\\nmade up my mind about it; if I\\'m Mabel, I\\'ll stay down here! It\\'ll be no\\nuse their putting their heads down and saying \"Come up again, dear!\" I\\nshall only look up and say \"Who am I then? Tell me that first, and then,\\nif I like being that person, I\\'ll come up: if not, I\\'ll stay down here\\ntill I\\'m somebody else\"--but, oh dear!\\' cried Alice, with a sudden burst\\nof tears, \\'I do wish they WOULD put their heads down! I am so VERY tired\\nof being all alone here!\\'\\n\\n\\nAs she said this she looked down at her hands, and was surprised to see\\nthat she had put on one of the Rabbit\\'s little white kid gloves while\\nshe was talking. \\'How CAN I have done that?\\' she thought. \\'I must\\nbe growing small again.\\' She got up and went to the table to measure\\nherself by it, and found that, as nearly as she could guess, she was now\\nabout two feet high, and was going on shrinking rapidly: she soon found\\nout that the cause of this was the fan she was holding, and she dropped\\nit hastily, just in time to avoid shrinking away altogether.\\n\\n\\n\\'That WAS a narrow escape!\\' said Alice, a good deal frightened at the\\nsudden change, but very glad to find herself still in existence; \\'and\\nnow for the garden!\\' and she ran with all speed back to the little door:\\nbut, alas! the little door was shut again, and the little golden key was\\nlying on the glass table as before, \\'and things are worse than ever,\\'\\nthought the poor child, \\'for I never was so small as this before, never!\\nAnd I declare it\\'s too bad, that it is!\\'\\n\\n\\nAs she said these words her foot slipped, and in another moment, splash!\\nshe was up to her chin in salt water. Her first idea was that she\\nhad somehow fallen into the sea, \\'and in that case I can go back by\\nrailway,\\' she said to herself. (Alice had been to the seaside once in\\nher life, and had come to the general conclusion, that wherever you go\\nto on the English coast you find a number of bathing machines in the\\nsea, some children digging in the sand with wooden spades, then a row\\nof lodging houses, and behind them a railway station.) However, she soon\\nmade out that she was in the pool of tears which she had wept when she\\nwas nine feet high.\\n\\n\\n\\'I wish I hadn\\'t cried so much!\\' said Alice, as she swam about, trying\\nto find her way out. \\'I shall be punished for it now, I suppose, by\\nbeing drowned in my own tears! That WILL be a queer thing, to be sure!\\nHowever, everything is queer to-day.\\'\\n\\n\\nJust then she heard something splashing about in the pool a little way\\noff, and she swam nearer to make out what it was: at first she thought\\nit must be a walrus or hippopotamus, but then she remembered how small\\nshe was now, and she soon made out that it was only a mouse that had\\nslipped in like herself.\\n\\n\\n\\'Would it be of any use, now,\\' thought Alice, \\'to speak to this mouse?\\nEverything is so out-of-the-way down here, that I should think very\\nlikely it can talk: at any rate, there\\'s no harm in trying.\\' So she\\nbegan: \\'O Mouse, do you know the way out of this pool? I am very tired\\nof swimming about here, O Mouse!\\' (Alice thought this must be the right\\nway of speaking to a mouse: she had never done such a thing before, but\\nshe remembered having seen in her brother\\'s Latin Grammar, \\'A mouse--of\\na mouse--to a mouse--a mouse--O mouse!\\') The Mouse looked at her rather\\ninquisitively, and seemed to her to wink with one of its little eyes,\\nbut it said nothing.\\n\\n\\n\\'Perhaps it doesn\\'t understand English,\\' thought Alice; \\'I daresay it\\'s\\na French mouse, come over with William the Conqueror.\\' (For, with all\\nher knowledge of history, Alice had no very clear notion how long ago\\nanything had happened.) So she began again: \\'Ou est ma chatte?\\' which\\nwas the first sentence in her French lesson-book. The Mouse gave a\\nsudden leap out of the water, and seemed to quiver all over with fright.\\n\\'Oh, I beg your pardon!\\' cried Alice hastily, afraid that she had hurt\\nthe poor animal\\'s feelings. \\'I quite forgot you didn\\'t like cats.\\'\\n\\n\\n\\'Not like cats!\\' cried the Mouse, in a shrill, passionate voice. \\'Would\\nYOU like cats if you were me?\\'\\n\\n\\n\\'Well, perhaps not,\\' said Alice in a soothing tone: \\'don\\'t be angry\\nabout it. And yet I wish I could show you our cat Dinah: I think you\\'d\\ntake a fancy to cats if you could only see her. She is such a dear quiet\\nthing,\\' Alice went on, half to herself, as she swam lazily about in the\\npool, \\'and she sits purring so nicely by the fire, licking her paws and\\nwashing her face--and she is such a nice soft thing to nurse--and she\\'s\\nsuch a capital one for catching mice--oh, I beg your pardon!\\' cried\\nAlice again, for this time the Mouse was bristling all over, and she\\nfelt certain it must be really offended. \\'We won\\'t talk about her any\\nmore if you\\'d rather not.\\'\\n\\n\\n\\'We indeed!\\' cried the Mouse, who was trembling down to the end of his\\ntail. \\'As if I would talk on such a subject! Our family always HATED\\ncats: nasty, low, vulgar things! Don\\'t let me hear the name again!\\'\\n\\n\\n\\'I won\\'t indeed!\\' said Alice, in a great hurry to change the subject of\\nconversation. \\'Are you--are you fond--of--of dogs?\\' The Mouse did not\\nanswer, so Alice went on eagerly: \\'There is such a nice little dog near\\nour house I should like to show you! A little bright-eyed terrier, you\\nknow, with oh, such long curly brown hair! And it\\'ll fetch things when\\nyou throw them, and it\\'ll sit up and beg for its dinner, and all sorts\\nof things--I can\\'t remember half of them--and it belongs to a farmer,\\nyou know, and he says it\\'s so useful, it\\'s worth a hundred pounds! He\\nsays it kills all the rats and--oh dear!\\' cried Alice in a sorrowful\\ntone, \\'I\\'m afraid I\\'ve offended it again!\\' For the Mouse was swimming\\naway from her as hard as it could go, and making quite a commotion in\\nthe pool as it went.\\n\\n\\nSo she called softly after it, \\'Mouse dear! Do come back again, and we\\nwon\\'t talk about cats or dogs either, if you don\\'t like them!\\' When the\\nMouse heard this, it turned round and swam slowly back to her: its\\nface was quite pale (with passion, Alice thought), and it said in a low\\ntrembling voice, \\'Let us get to the shore, and then I\\'ll tell you my\\nhistory, and you\\'ll understand why it is I hate cats and dogs.\\'\\n\\n\\nIt was high time to go, for the pool was getting quite crowded with the\\nbirds and animals that had fallen into it: there were a Duck and a Dodo,\\na Lory and an Eaglet, and several other curious creatures. Alice led the\\nway, and the whole party swam to the shore.\\n\\n\\n\\n\\n\\n\\n\\n\\nCHAPTER III. A Caucus-Race and a Long Tale\\n\\n\\nThey were indeed a queer-looking party that assembled on the bank--the\\nbirds with draggled feathers, the animals with their fur clinging close\\nto them, and all dripping wet, cross, and uncomfortable.\\n\\n\\nThe first question of course was, how to get dry again: they had a\\nconsultation about this, and after a few minutes it seemed quite natural\\nto Alice to find herself talking familiarly with them, as if she had\\nknown them all her life. Indeed, she had quite a long argument with the\\nLory, who at last turned sulky, and would only say, \\'I am older than\\nyou, and must know better\\'; and this Alice would not allow without\\nknowing how old it was, and, as the Lory positively refused to tell its\\nage, there was no more to be said.\\n\\n\\nAt last the Mouse, who seemed to be a person of authority among them,\\ncalled out, \\'Sit down, all of you, and listen to me! I\\'LL soon make you\\ndry enough!\\' They all sat down at once, in a large ring, with the Mouse\\nin the middle. Alice kept her eyes anxiously fixed on it, for she felt\\nsure she would catch a bad cold if she did not get dry very soon.\\n\\n\\n\\'Ahem!\\' said the Mouse with an important air, \\'are you all ready? This\\nis the driest thing I know. Silence all round, if you please! \"William\\nthe Conqueror, whose cause was favoured by the pope, was soon submitted\\nto by the English, who wanted leaders, and had been of late much\\naccustomed to usurpation and conquest. Edwin and Morcar, the earls of\\nMercia and Northumbria--\"\\'\\n\\n\\n\\'Ugh!\\' said the Lory, with a shiver.\\n\\n\\n\\'I beg your pardon!\\' said the Mouse, frowning, but very politely: \\'Did\\nyou speak?\\'\\n\\n\\n\\'Not I!\\' said the Lory hastily.\\n\\n\\n\\'I thought you did,\\' said the Mouse. \\'--I proceed. \"Edwin and Morcar,\\nthe earls of Mercia and Northumbria, declared for him: and even Stigand,\\nthe patriotic archbishop of Canterbury, found it advisable--\"\\'\\n\\n\\n\\'Found WHAT?\\' said the Duck.\\n\\n\\n\\'Found IT,\\' the Mouse replied rather crossly: \\'of course you know what\\n\"it\" means.\\'\\n\\n\\n\\'I know what \"it\" means well enough, when I find a thing,\\' said the\\nDuck: \\'it\\'s generally a frog or a worm. The question is, what did the\\narchbishop find?\\'\\n\\n\\nThe Mouse did not notice this question, but hurriedly went on, \\'\"--found\\nit advisable to go with Edgar Atheling to meet William and offer him the\\ncrown. William\\'s conduct at first was moderate. But the insolence of his\\nNormans--\" How are you getting on now, my dear?\\' it continued, turning\\nto Alice as it spoke.\\n\\n\\n\\'As wet as ever,\\' said Alice in a melancholy tone: \\'it doesn\\'t seem to\\ndry me at all.\\'\\n\\n\\n\\'In that case,\\' said the Dodo solemnly, rising to its feet, \\'I move\\nthat the meeting adjourn, for the immediate adoption of more energetic\\nremedies--\\'\\n\\n\\n\\'Speak English!\\' said the Eaglet. \\'I don\\'t know the meaning of half\\nthose long words, and, what\\'s more, I don\\'t believe you do either!\\' And\\nthe Eaglet bent down its head to hide a smile: some of the other birds\\ntittered audibly.\\n\\n\\n\\'What I was going to say,\\' said the Dodo in an offended tone, \\'was, that\\nthe best thing to get us dry would be a Caucus-race.\\'\\n\\n\\n\\'What IS a Caucus-race?\\' said Alice; not that she wanted much to know,\\nbut the Dodo had paused as if it thought that SOMEBODY ought to speak,\\nand no one else seemed inclined to say anything.\\n\\n\\n\\'Why,\\' said the Dodo, \\'the best way to explain it is to do it.\\' (And, as\\nyou might like to try the thing yourself, some winter day, I will tell\\nyou how the Dodo managed it.)\\n\\n\\nFirst it marked out a race-course, in a sort of circle, (\\'the exact\\nshape doesn\\'t matter,\\' it said,) and then all the party were placed\\nalong the course, here and there. There was no \\'One, two, three, and\\naway,\\' but they began running when they liked, and left off when they\\nliked, so that it was not easy to know when the race was over. However,\\nwhen they had been running half an hour or so, and were quite dry again,\\nthe Dodo suddenly called out \\'The race is over!\\' and they all crowded\\nround it, panting, and asking, \\'But who has won?\\'\\n\\n\\nThis question the Dodo could not answer without a great deal of thought,\\nand it sat for a long time with one finger pressed upon its forehead\\n(the position in which you usually see Shakespeare, in the pictures\\nof him), while the rest waited in silence. At last the Dodo said,\\n\\'EVERYBODY has won, and all must have prizes.\\'\\n\\n\\n\\'But who is to give the prizes?\\' quite a chorus of voices asked.\\n\\n\\n\\'Why, SHE, of course,\\' said the Dodo, pointing to Alice with one finger;\\nand the whole party at once crowded round her, calling out in a confused\\nway, \\'Prizes! Prizes!\\'\\n\\n\\nAlice had no idea what to do, and in despair she put her hand in her\\npocket, and pulled out a box of comfits, (luckily the salt water had\\nnot got into it), and handed them round as prizes. There was exactly one\\na-piece all round.\\n\\n\\n\\'But she must have a prize herself, you know,\\' said the Mouse.\\n\\n\\n\\'Of course,\\' the Dodo replied very gravely. \\'What else have you got in\\nyour pocket?\\' he went on, turning to Alice.\\n\\n\\n\\'Only a thimble,\\' said Alice sadly.\\n\\n\\n\\'Hand it over here,\\' said the Dodo.\\n\\n\\nThen they all crowded round her once more, while the Dodo solemnly\\npresented the thimble, saying \\'We beg your acceptance of this elegant\\nthimble\\'; and, when it had finished this short speech, they all cheered.\\n\\n\\nAlice thought the whole thing very absurd, but they all looked so grave\\nthat she did not dare to laugh; and, as she could not think of anything\\nto say, she simply bowed, and took the thimble, looking as solemn as she\\ncould.\\n\\n\\nThe next thing was to eat the comfits: this caused some noise and\\nconfusion, as the large birds complained that they could not taste\\ntheirs, and the small ones choked and had to be patted on the back.\\nHowever, it was over at last, and they sat down again in a ring, and\\nbegged the Mouse to tell them something more.\\n\\n\\n\\'You promised to tell me your history, you know,\\' said Alice, \\'and why\\nit is you hate--C and D,\\' she added in a whisper, half afraid that it\\nwould be offended again.\\n\\n\\n\\'Mine is a long and a sad tale!\\' said the Mouse, turning to Alice, and\\nsighing.\\n\\n\\n\\'It IS a long tail, certainly,\\' said Alice, looking down with wonder at\\nthe Mouse\\'s tail; \\'but why do you call it sad?\\' And she kept on puzzling\\nabout it while the Mouse was speaking, so that her idea of the tale was\\nsomething like this:--\\n\\n\\n         \\'Fury said to a\\n         mouse, That he\\n        met in the\\n       house,\\n     \"Let us\\n      both go to\\n       law: I will\\n        prosecute\\n         YOU.--Come,\\n           I\\'ll take no\\n           denial; We\\n          must have a\\n        trial: For\\n      really this\\n     morning I\\'ve\\n    nothing\\n    to do.\"\\n     Said the\\n      mouse to the\\n       cur, \"Such\\n        a trial,\\n         dear Sir,\\n            With\\n          no jury\\n        or judge,\\n       would be\\n      wasting\\n      our\\n      breath.\"\\n       \"I\\'ll be\\n        judge, I\\'ll\\n         be jury,\"\\n            Said\\n         cunning\\n          old Fury:\\n          \"I\\'ll\\n          try the\\n            whole\\n            cause,\\n              and\\n           condemn\\n           you\\n          to\\n           death.\"\\'\\n\\n\\n\\n\\n\\'You are not attending!\\' said the Mouse to Alice severely. \\'What are you\\nthinking of?\\'\\n\\n\\n\\'I beg your pardon,\\' said Alice very humbly: \\'you had got to the fifth\\nbend, I think?\\'\\n\\n\\n\\'I had NOT!\\' cried the Mouse, sharply and very angrily.\\n\\n\\n\\'A knot!\\' said Alice, always ready to make herself useful, and looking\\nanxiously about her. \\'Oh, do let me help to undo it!\\'\\n\\n\\n\\'I shall do nothing of the sort,\\' said the Mouse, getting up and walking\\naway. \\'You insult me by talking such nonsense!\\'\\n\\n\\n\\'I didn\\'t mean it!\\' pleaded poor Alice. \\'But you\\'re so easily offended,\\nyou know!\\'\\n\\n\\nThe Mouse only growled in reply.\\n\\n\\n\\'Please come back and finish your story!\\' Alice called after it; and the\\nothers all joined in chorus, \\'Yes, please do!\\' but the Mouse only shook\\nits head impatiently, and walked a little quicker.\\n\\n\\n\\'What a pity it wouldn\\'t stay!\\' sighed the Lory, as soon as it was quite\\nout of sight; and an old Crab took the opportunity of saying to her\\ndaughter \\'Ah, my dear! Let this be a lesson to you never to lose\\nYOUR temper!\\' \\'Hold your tongue, Ma!\\' said the young Crab, a little\\nsnappishly. \\'You\\'re enough to try the patience of an oyster!\\'\\n\\n\\n\\'I wish I had our Dinah here, I know I do!\\' said Alice aloud, addressing\\nnobody in particular. \\'She\\'d soon fetch it back!\\'\\n\\n\\n\\'And who is Dinah, if I might venture to ask the question?\\' said the\\nLory.\\n\\n\\nAlice replied eagerly, for she was always ready to talk about her pet:\\n\\'Dinah\\'s our cat. And she\\'s such a capital one for catching mice you\\ncan\\'t think! And oh, I wish you could see her after the birds! Why,\\nshe\\'ll eat a little bird as soon as look at it!\\'\\n\\n\\nThis speech caused a remarkable sensation among the party. Some of the\\nbirds hurried off at once: one old Magpie began wrapping itself up very\\ncarefully, remarking, \\'I really must be getting home; the night-air\\ndoesn\\'t suit my throat!\\' and a Canary called out in a trembling voice to\\nits children, \\'Come away, my dears! It\\'s high time you were all in bed!\\'\\nOn various pretexts they all moved off, and Alice was soon left alone.\\n\\n\\n\\'I wish I hadn\\'t mentioned Dinah!\\' she said to herself in a melancholy\\ntone. \\'Nobody seems to like her, down here, and I\\'m sure she\\'s the best\\ncat in the world! Oh, my dear Dinah! I wonder if I shall ever see you\\nany more!\\' And here poor Alice began to cry again, for she felt very\\nlonely and low-spirited. In a little while, however, she again heard\\na little pattering of footsteps in the distance, and she looked up\\neagerly, half hoping that the Mouse had changed his mind, and was coming\\nback to finish his story.\\n\\n\\n\\n\\n\\n\\n\\n\\nCHAPTER IV. The Rabbit Sends in a Little Bill\\n\\n\\nIt was the White Rabbit, trotting slowly back again, and looking\\nanxiously about as it went, as if it had lost something; and she heard\\nit muttering to itself \\'The Duchess! The Duchess! Oh my dear paws! Oh\\nmy fur and whiskers! She\\'ll get me executed, as sure as ferrets are\\nferrets! Where CAN I have dropped them, I wonder?\\' Alice guessed in a\\nmoment that it was looking for the fan and the pair of white kid gloves,\\nand she very good-naturedly began hunting about for them, but they were\\nnowhere to be seen--everything seemed to have changed since her swim in\\nthe pool, and the great hall, with the glass table and the little door,\\nhad vanished completely.\\n\\n\\nVery soon the Rabbit noticed Alice, as she went hunting about, and\\ncalled out to her in an angry tone, \\'Why, Mary Ann, what ARE you doing\\nout here? Run home this moment, and fetch me a pair of gloves and a fan!\\nQuick, now!\\' And Alice was so much frightened that she ran off at once\\nin the direction it pointed to, without trying to explain the mistake it\\nhad made.\\n\\n\\n\\'He took me for his housemaid,\\' she said to herself as she ran. \\'How\\nsurprised he\\'ll be when he finds out who I am! But I\\'d better take him\\nhis fan and gloves--that is, if I can find them.\\' As she said this, she\\ncame upon a neat little house, on the door of which was a bright brass\\nplate with the name \\'W. RABBIT\\' engraved upon it. She went in without\\nknocking, and hurried upstairs, in great fear lest she should meet the\\nreal Mary Ann, and be turned out of the house before she had found the\\nfan and gloves.\\n\\n\\n\\'How queer it seems,\\' Alice said to herself, \\'to be going messages for\\na rabbit! I suppose Dinah\\'ll be sending me on messages next!\\' And she\\nbegan fancying the sort of thing that would happen: \\'\"Miss Alice! Come\\nhere directly, and get ready for your walk!\" \"Coming in a minute,\\nnurse! But I\\'ve got to see that the mouse doesn\\'t get out.\" Only I don\\'t\\nthink,\\' Alice went on, \\'that they\\'d let Dinah stop in the house if it\\nbegan ordering people about like that!\\'\\n\\n\\nBy this time she had found her way into a tidy little room with a table\\nin the window, and on it (as she had hoped) a fan and two or three pairs\\nof tiny white kid gloves: she took up the fan and a pair of the gloves,\\nand was just going to leave the room, when her eye fell upon a little\\nbottle that stood near the looking-glass. There was no label this time\\nwith the words \\'DRINK ME,\\' but nevertheless she uncorked it and put it\\nto her lips. \\'I know SOMETHING interesting is sure to happen,\\' she said\\nto herself, \\'whenever I eat or drink anything; so I\\'ll just see what\\nthis bottle does. I do hope it\\'ll make me grow large again, for really\\nI\\'m quite tired of being such a tiny little thing!\\'\\n\\n\\nIt did so indeed, and much sooner than she had expected: before she had\\ndrunk half the bottle, she found her head pressing against the ceiling,\\nand had to stoop to save her neck from being broken. She hastily put\\ndown the bottle, saying to herself \\'That\\'s quite enough--I hope I shan\\'t\\ngrow any more--As it is, I can\\'t get out at the door--I do wish I hadn\\'t\\ndrunk quite so much!\\'\\n\\n\\nAlas! it was too late to wish that! She went on growing, and growing,\\nand very soon had to kneel down on the floor: in another minute there\\nwas not even room for this, and she tried the effect of lying down with\\none elbow against the door, and the other arm curled round her head.\\nStill she went on growing, and, as a last resource, she put one arm out\\nof the window, and one foot up the chimney, and said to herself \\'Now I\\ncan do no more, whatever happens. What WILL become of me?\\'\\n\\n\\nLuckily for Alice, the little magic bottle had now had its full effect,\\nand she grew no larger: still it was very uncomfortable, and, as there\\nseemed to be no sort of chance of her ever getting out of the room\\nagain, no wonder she felt unhappy.\\n\\n\\n\\'It was much pleasanter at home,\\' thought poor Alice, \\'when one wasn\\'t\\nalways growing larger and smaller, and being ordered about by mice and\\nrabbits. I almost wish I hadn\\'t gone down that rabbit-hole--and yet--and\\nyet--it\\'s rather curious, you know, this sort of life! I do wonder what\\nCAN have happened to me! When I used to read fairy-tales, I fancied that\\nkind of thing never happened, and now here I am in the middle of one!\\nThere ought to be a book written about me, that there ought! And when I\\ngrow up, I\\'ll write one--but I\\'m grown up now,\\' she added in a sorrowful\\ntone; \\'at least there\\'s no room to grow up any more HERE.\\'\\n\\n\\n\\'But then,\\' thought Alice, \\'shall I NEVER get any older than I am\\nnow? That\\'ll be a comfort, one way--never to be an old woman--but\\nthen--always to have lessons to learn! Oh, I shouldn\\'t like THAT!\\'\\n\\n\\n\\'Oh, you foolish Alice!\\' she answered herself. \\'How can you learn\\nlessons in here? Why, there\\'s hardly room for YOU, and no room at all\\nfor any lesson-books!\\'\\n\\n\\nAnd so she went on, taking first one side and then the other, and making\\nquite a conversation of it altogether; but after a few minutes she heard\\na voice outside, and stopped to listen.\\n\\n\\n\\'Mary Ann! Mary Ann!\\' said the voice. \\'Fetch me my gloves this moment!\\'\\nThen came a little pattering of feet on the stairs. Alice knew it was\\nthe Rabbit coming to look for her, and she trembled till she shook the\\nhouse, quite forgetting that she was now about a thousand times as large\\nas the Rabbit, and had no reason to be afraid of it.\\n\\n\\nPresently the Rabbit came up to the door, and tried to open it; but, as\\nthe door opened inwards, and Alice\\'s elbow was pressed hard against it,\\nthat attempt proved a failure. Alice heard it say to itself \\'Then I\\'ll\\ngo round and get in at the window.\\'\\n\\n\\n\\'THAT you won\\'t\\' thought Alice, and, after waiting till she fancied\\nshe heard the Rabbit just under the window, she suddenly spread out her\\nhand, and made a snatch in the air. She did not get hold of anything,\\nbut she heard a little shriek and a fall, and a crash of broken glass,\\nfrom which she concluded that it was just possible it had fallen into a\\ncucumber-frame, or something of the sort.\\n\\n\\nNext came an angry voice--the Rabbit\\'s--\\'Pat! Pat! Where are you?\\' And\\nthen a voice she had never heard before, \\'Sure then I\\'m here! Digging\\nfor apples, yer honour!\\'\\n\\n\\n\\'Digging for apples, indeed!\\' said the Rabbit angrily. \\'Here! Come and\\nhelp me out of THIS!\\' (Sounds of more broken glass.)\\n\\n\\n\\'Now tell me, Pat, what\\'s that in the window?\\'\\n\\n\\n\\'Sure, it\\'s an arm, yer honour!\\' (He pronounced it \\'arrum.\\')\\n\\n\\n\\'An arm, you goose! Who ever saw one that size? Why, it fills the whole\\nwindow!\\'\\n\\n\\n\\'Sure, it does, yer honour: but it\\'s an arm for all that.\\'\\n\\n\\n\\'Well, it\\'s got no business there, at any rate: go and take it away!\\'\\n\\n\\nThere was a long silence after this, and Alice could only hear whispers\\nnow and then; such as, \\'Sure, I don\\'t like it, yer honour, at all, at\\nall!\\' \\'Do as I tell you, you coward!\\' and at last she spread out her\\nhand again, and made another snatch in the air. This time there were\\nTWO little shrieks, and more sounds of broken glass. \\'What a number of\\ncucumber-frames there must be!\\' thought Alice. \\'I wonder what they\\'ll do\\nnext! As for pulling me out of the window, I only wish they COULD! I\\'m\\nsure I don\\'t want to stay in here any longer!\\'\\n\\n\\nShe waited for some time without hearing anything more: at last came a\\nrumbling of little cartwheels, and the sound of a good many voices\\nall talking together: she made out the words: \\'Where\\'s the other\\nladder?--Why, I hadn\\'t to bring but one; Bill\\'s got the other--Bill!\\nfetch it here, lad!--Here, put \\'em up at this corner--No, tie \\'em\\ntogether first--they don\\'t reach half high enough yet--Oh! they\\'ll\\ndo well enough; don\\'t be particular--Here, Bill! catch hold of this\\nrope--Will the roof bear?--Mind that loose slate--Oh, it\\'s coming\\ndown! Heads below!\\' (a loud crash)--\\'Now, who did that?--It was Bill, I\\nfancy--Who\\'s to go down the chimney?--Nay, I shan\\'t! YOU do it!--That I\\nwon\\'t, then!--Bill\\'s to go down--Here, Bill! the master says you\\'re to\\ngo down the chimney!\\'\\n\\n\\n\\'Oh! So Bill\\'s got to come down the chimney, has he?\\' said Alice to\\nherself. \\'Shy, they seem to put everything upon Bill! I wouldn\\'t be in\\nBill\\'s place for a good deal: this fireplace is narrow, to be sure; but\\nI THINK I can kick a little!\\'\\n\\n\\nShe drew her foot as far down the chimney as she could, and waited\\ntill she heard a little animal (she couldn\\'t guess of what sort it was)\\nscratching and scrambling about in the chimney close above her: then,\\nsaying to herself \\'This is Bill,\\' she gave one sharp kick, and waited to\\nsee what would happen next.\\n\\n\\nThe first thing she heard was a general chorus of \\'There goes Bill!\\'\\nthen the Rabbit\\'s voice along--\\'Catch him, you by the hedge!\\' then\\nsilence, and then another confusion of voices--\\'Hold up his head--Brandy\\nnow--Don\\'t choke him--How was it, old fellow? What happened to you? Tell\\nus all about it!\\'\\n\\n\\nLast came a little feeble, squeaking voice, (\\'That\\'s Bill,\\' thought\\nAlice,) \\'Well, I hardly know--No more, thank ye; I\\'m better now--but I\\'m\\na deal too flustered to tell you--all I know is, something comes at me\\nlike a Jack-in-the-box, and up I goes like a sky-rocket!\\'\\n\\n\\n\\'So you did, old fellow!\\' said the others.\\n\\n\\n\\'We must burn the house down!\\' said the Rabbit\\'s voice; and Alice called\\nout as loud as she could, \\'If you do. I\\'ll set Dinah at you!\\'\\n\\n\\nThere was a dead silence instantly, and Alice thought to herself, \\'I\\nwonder what they WILL do next! If they had any sense, they\\'d take the\\nroof off.\\' After a minute or two, they began moving about again, and\\nAlice heard the Rabbit say, \\'A barrowful will do, to begin with.\\'\\n\\n\\n\\'A barrowful of WHAT?\\' thought Alice; but she had not long to doubt,\\nfor the next moment a shower of little pebbles came rattling in at the\\nwindow, and some of them hit her in the face. \\'I\\'ll put a stop to this,\\'\\nshe said to herself, and shouted out, \\'You\\'d better not do that again!\\'\\nwhich produced another dead silence.\\n\\n\\nAlice noticed with some surprise that the pebbles were all turning into\\nlittle cakes as they lay on the floor, and a bright idea came into her\\nhead. \\'If I eat one of these cakes,\\' she thought, \\'it\\'s sure to make\\nSOME change in my size; and as it can\\'t possibly make me larger, it must\\nmake me smaller, I suppose.\\'\\n\\n\\nSo she swallowed one of the cakes, and was delighted to find that she\\nbegan shrinking directly. As soon as she was small enough to get through\\nthe door, she ran out of the house, and found quite a crowd of little\\nanimals and birds waiting outside. The poor little Lizard, Bill, was\\nin the middle, being held up by two guinea-pigs, who were giving it\\nsomething out of a bottle. They all made a rush at Alice the moment she\\nappeared; but she ran off as hard as she could, and soon found herself\\nsafe in a thick wood.\\n\\n\\n\\'The first thing I\\'ve got to do,\\' said Alice to herself, as she wandered\\nabout in the wood, \\'is to grow to my right size again; and the second\\nthing is to find my way into that lovely garden. I think that will be\\nthe best plan.\\'\\n\\n\\nIt sounded an excellent plan, no doubt, and very neatly and simply\\narranged; the only difficulty was, that she had not the smallest idea\\nhow to set about it; and while she was peering about anxiously among\\nthe trees, a little sharp bark just over her head made her look up in a\\ngreat hurry.\\n\\n\\nAn enormous puppy was looking down at her with large round eyes, and\\nfeebly stretching out one paw, trying to touch her. \\'Poor little thing!\\'\\nsaid Alice, in a coaxing tone, and she tried hard to whistle to it; but\\nshe was terribly frightened all the time at the thought that it might be\\nhungry, in which case it would be very likely to eat her up in spite of\\nall her coaxing.\\n\\n\\nHardly knowing what she did, she picked up a little bit of stick, and\\nheld it out to the puppy; whereupon the puppy jumped into the air off\\nall its feet at once, with a yelp of delight, and rushed at the stick,\\nand made believe to worry it; then Alice dodged behind a great thistle,\\nto keep herself from being run over; and the moment she appeared on the\\nother side, the puppy made another rush at the stick, and tumbled head\\nover heels in its hurry to get hold of it; then Alice, thinking it was\\nvery like having a game of play with a cart-horse, and expecting every\\nmoment to be trampled under its feet, ran round the thistle again; then\\nthe puppy began a series of short charges at the stick, running a very\\nlittle way forwards each time and a long way back, and barking hoarsely\\nall the while, till at last it sat down a good way off, panting, with\\nits tongue hanging out of its mouth, and its great eyes half shut.\\n\\n\\nThis seemed to Alice a good opportunity for making her escape; so she\\nset off at once, and ran till she was quite tired and out of breath, and\\ntill the puppy\\'s bark sounded quite faint in the distance.\\n\\n\\n\\'And yet what a dear little puppy it was!\\' said Alice, as she leant\\nagainst a buttercup to rest herself, and fanned herself with one of the\\nleaves: \\'I should have liked teaching it tricks very much, if--if I\\'d\\nonly been the right size to do it! Oh dear! I\\'d nearly forgotten that\\nI\\'ve got to grow up again! Let me see--how IS it to be managed? I\\nsuppose I ought to eat or drink something or other; but the great\\nquestion is, what?\\'\\n\\n\\nThe great question certainly was, what? Alice looked all round her at\\nthe flowers and the blades of grass, but she did not see anything that\\nlooked like the right thing to eat or drink under the circumstances.\\nThere was a large mushroom growing near her, about the same height as\\nherself; and when she had looked under it, and on both sides of it, and\\nbehind it, it occurred to her that she might as well look and see what\\nwas on the top of it.\\n\\n\\nShe stretched herself up on tiptoe, and peeped over the edge of the\\nmushroom, and her eyes immediately met those of a large caterpillar,\\nthat was sitting on the top with its arms folded, quietly smoking a long\\nhookah, and taking not the smallest notice of her or of anything else.\\n\\n\\n\\n\\n\\n\\n\\n\\nCHAPTER V. Advice from a Caterpillar\\n\\n\\nThe Caterpillar and Alice looked at each other for some time in silence:\\nat last the Caterpillar took the hookah out of its mouth, and addressed\\nher in a languid, sleepy voice.\\n\\n\\n\\'Who are YOU?\\' said the Caterpillar.\\n\\n\\nThis was not an encouraging opening for a conversation. Alice replied,\\nrather shyly, \\'I--I hardly know, sir, just at present--at least I know\\nwho I WAS when I got up this morning, but I think I must have been\\nchanged several times since then.\\'\\n\\n\\n\\'What do you mean by that?\\' said the Caterpillar sternly. \\'Explain\\nyourself!\\'\\n\\n\\n\\'I can\\'t explain MYSELF, I\\'m afraid, sir\\' said Alice, \\'because I\\'m not\\nmyself, you see.\\'\\n\\n\\n\\'I don\\'t see,\\' said the Caterpillar.\\n\\n\\n\\'I\\'m afraid I can\\'t put it more clearly,\\' Alice replied very politely,\\n\\'for I can\\'t understand it myself to begin with; and being so many\\ndifferent sizes in a day is very confusing.\\'\\n\\n\\n\\'It isn\\'t,\\' said the Caterpillar.\\n\\n\\n\\'Well, perhaps you haven\\'t found it so yet,\\' said Alice; \\'but when you\\nhave to turn into a chrysalis--you will some day, you know--and then\\nafter that into a butterfly, I should think you\\'ll feel it a little\\nqueer, won\\'t you?\\'\\n\\n\\n\\'Not a bit,\\' said the Caterpillar.\\n\\n\\n\\'Well, perhaps your feelings may be different,\\' said Alice; \\'all I know\\nis, it would feel very queer to ME.\\'\\n\\n\\n\\'You!\\' said the Caterpillar contemptuously. \\'Who are YOU?\\'\\n\\n\\nWhich brought them back again to the beginning of the conversation.\\nAlice felt a little irritated at the Caterpillar\\'s making such VERY\\nshort remarks, and she drew herself up and said, very gravely, \\'I think,\\nyou ought to tell me who YOU are, first.\\'\\n\\n\\n\\'Why?\\' said the Caterpillar.\\n\\n\\nHere was another puzzling question; and as Alice could not think of any\\ngood reason, and as the Caterpillar seemed to be in a VERY unpleasant\\nstate of mind, she turned away.\\n\\n\\n\\'Come back!\\' the Caterpillar called after her. \\'I\\'ve something important\\nto say!\\'\\n\\n\\nThis sounded promising, certainly: Alice turned and came back again.\\n\\n\\n\\'Keep your temper,\\' said the Caterpillar.\\n\\n\\n\\'Is that all?\\' said Alice, swallowing down her anger as well as she\\ncould.\\n\\n\\n\\'No,\\' said the Caterpillar.\\n\\n\\nAlice thought she might as well wait, as she had nothing else to do, and\\nperhaps after all it might tell her something worth hearing. For some\\nminutes it puffed away without speaking, but at last it unfolded its\\narms, took the hookah out of its mouth again, and said, \\'So you think\\nyou\\'re changed, do you?\\'\\n\\n\\n\\'I\\'m afraid I am, sir,\\' said Alice; \\'I can\\'t remember things as I\\nused--and I don\\'t keep the same size for ten minutes together!\\'\\n\\n\\n\\'Can\\'t remember WHAT things?\\' said the Caterpillar.\\n\\n\\n\\'Well, I\\'ve tried to say \"HOW DOTH THE LITTLE BUSY BEE,\" but it all came\\ndifferent!\\' Alice replied in a very melancholy voice.\\n\\n\\n\\'Repeat, \"YOU ARE OLD, FATHER WILLIAM,\"\\' said the Caterpillar.\\n\\n\\nAlice folded her hands, and began:--\\n\\n\\n   \\'You are old, Father William,\\' the young man said,\\n    \\'And your hair has become very white;\\n   And yet you incessantly stand on your head--\\n    Do you think, at your age, it is right?\\'\\n\\n\\n   \\'In my youth,\\' Father William replied to his son,\\n    \\'I feared it might injure the brain;\\n   But, now that I\\'m perfectly sure I have none,\\n    Why, I do it again and again.\\'\\n\\n\\n   \\'You are old,\\' said the youth, \\'as I mentioned before,\\n    And have grown most uncommonly fat;\\n   Yet you turned a back-somersault in at the door--\\n    Pray, what is the reason of that?\\'\\n\\n\\n   \\'In my youth,\\' said the sage, as he shook his grey locks,\\n    \\'I kept all my limbs very supple\\n   By the use of this ointment--one shilling the box--\\n    Allow me to sell you a couple?\\'\\n\\n\\n   \\'You are old,\\' said the youth, \\'and your jaws are too weak\\n    For anything tougher than suet;\\n   Yet you finished the goose, with the bones and the beak--\\n    Pray how did you manage to do it?\\'\\n\\n\\n   \\'In my youth,\\' said his father, \\'I took to the law,\\n    And argued each case with my wife;\\n   And the muscular strength, which it gave to my jaw,\\n    Has lasted the rest of my life.\\'\\n\\n\\n   \\'You are old,\\' said the youth, \\'one would hardly suppose\\n    That your eye was as steady as ever;\\n   Yet you balanced an eel on the end of your nose--\\n    What made you so awfully clever?\\'\\n\\n\\n   \\'I have answered three questions, and that is enough,\\'\\n    Said his father; \\'don\\'t give yourself airs!\\n   Do you think I can listen all day to such stuff?\\n    Be off, or I\\'ll kick you down stairs!\\'\\n\\n\\n\\n\\n\\'That is not said right,\\' said the Caterpillar.\\n\\n\\n\\'Not QUITE right, I\\'m afraid,\\' said Alice, timidly; \\'some of the words\\nhave got altered.\\'\\n\\n\\n\\'It is wrong from beginning to end,\\' said the Caterpillar decidedly, and\\nthere was silence for some minutes.\\n\\n\\nThe Caterpillar was the first to speak.\\n\\n\\n\\'What size do you want to be?\\' it asked.\\n\\n\\n\\'Oh, I\\'m not particular as to size,\\' Alice hastily replied; \\'only one\\ndoesn\\'t like changing so often, you know.\\'\\n\\n\\n\\'I DON\\'T know,\\' said the Caterpillar.\\n\\n\\nAlice said nothing: she had never been so much contradicted in her life\\nbefore, and she felt that she was losing her temper.\\n\\n\\n\\'Are you content now?\\' said the Caterpillar.\\n\\n\\n\\'Well, I should like to be a LITTLE larger, sir, if you wouldn\\'t mind,\\'\\nsaid Alice: \\'three inches is such a wretched height to be.\\'\\n\\n\\n\\'It is a very good height indeed!\\' said the Caterpillar angrily, rearing\\nitself upright as it spoke (it was exactly three inches high).\\n\\n\\n\\'But I\\'m not used to it!\\' pleaded poor Alice in a piteous tone. And\\nshe thought of herself, \\'I wish the creatures wouldn\\'t be so easily\\noffended!\\'\\n\\n\\n\\'You\\'ll get used to it in time,\\' said the Caterpillar; and it put the\\nhookah into its mouth and began smoking again.\\n\\n\\nThis time Alice waited patiently until it chose to speak again. In\\na minute or two the Caterpillar took the hookah out of its mouth\\nand yawned once or twice, and shook itself. Then it got down off the\\nmushroom, and crawled away in the grass, merely remarking as it went,\\n\\'One side will make you grow taller, and the other side will make you\\ngrow shorter.\\'\\n\\n\\n\\'One side of WHAT? The other side of WHAT?\\' thought Alice to herself.\\n\\n\\n\\'Of the mushroom,\\' said the Caterpillar, just as if she had asked it\\naloud; and in another moment it was out of sight.\\n\\n\\nAlice remained looking thoughtfully at the mushroom for a minute, trying\\nto make out which were the two sides of it; and as it was perfectly\\nround, she found this a very difficult question. However, at last she\\nstretched her arms round it as far as they would go, and broke off a bit\\nof the edge with each hand.\\n\\n\\n\\'And now which is which?\\' she said to herself, and nibbled a little of\\nthe right-hand bit to try the effect: the next moment she felt a violent\\nblow underneath her chin: it had struck her foot!\\n\\n\\nShe was a good deal frightened by this very sudden change, but she felt\\nthat there was no time to be lost, as she was shrinking rapidly; so she\\nset to work at once to eat some of the other bit. Her chin was pressed\\nso closely against her foot, that there was hardly room to open her\\nmouth; but she did it at last, and managed to swallow a morsel of the\\nlefthand bit.\\n\\n\\n\\n\\n  *    *    *    *    *    *    *\\n\\n\\n    *    *    *    *    *    *\\n\\n\\n  *    *    *    *    *    *    *\\n\\n\\n\\'Come, my head\\'s free at last!\\' said Alice in a tone of delight, which\\nchanged into alarm in another moment, when she found that her shoulders\\nwere nowhere to be found: all she could see, when she looked down, was\\nan immense length of neck, which seemed to rise like a stalk out of a\\nsea of green leaves that lay far below her.\\n\\n\\n\\'What CAN all that green stuff be?\\' said Alice. \\'And where HAVE my\\nshoulders got to? And oh, my poor hands, how is it I can\\'t see you?\\'\\nShe was moving them about as she spoke, but no result seemed to follow,\\nexcept a little shaking among the distant green leaves.\\n\\n\\nAs there seemed to be no chance of getting her hands up to her head, she\\ntried to get her head down to them, and was delighted to find that her\\nneck would bend about easily in any direction, like a serpent. She had\\njust succeeded in curving it down into a graceful zigzag, and was going\\nto dive in among the leaves, which she found to be nothing but the tops\\nof the trees under which she had been wandering, when a sharp hiss made\\nher draw back in a hurry: a large pigeon had flown into her face, and\\nwas beating her violently with its wings.\\n\\n\\n\\'Serpent!\\' screamed the Pigeon.\\n\\n\\n\\'I\\'m NOT a serpent!\\' said Alice indignantly. \\'Let me alone!\\'\\n\\n\\n\\'Serpent, I say again!\\' repeated the Pigeon, but in a more subdued tone,\\nand added with a kind of sob, \\'I\\'ve tried every way, and nothing seems\\nto suit them!\\'\\n\\n\\n\\'I haven\\'t the least idea what you\\'re talking about,\\' said Alice.\\n\\n\\n\\'I\\'ve tried the roots of trees, and I\\'ve tried banks, and I\\'ve tried\\nhedges,\\' the Pigeon went on, without attending to her; \\'but those\\nserpents! There\\'s no pleasing them!\\'\\n\\n\\nAlice was more and more puzzled, but she thought there was no use in\\nsaying anything more till the Pigeon had finished.\\n\\n\\n\\'As if it wasn\\'t trouble enough hatching the eggs,\\' said the Pigeon;\\n\\'but I must be on the look-out for serpents night and day! Why, I\\nhaven\\'t had a wink of sleep these three weeks!\\'\\n\\n\\n\\'I\\'m very sorry you\\'ve been annoyed,\\' said Alice, who was beginning to\\nsee its meaning.\\n\\n\\n\\'And just as I\\'d taken the highest tree in the wood,\\' continued the\\nPigeon, raising its voice to a shriek, \\'and just as I was thinking I\\nshould be free of them at last, they must needs come wriggling down from\\nthe sky! Ugh, Serpent!\\'\\n\\n\\n\\'But I\\'m NOT a serpent, I tell you!\\' said Alice. \\'I\\'m a--I\\'m a--\\'\\n\\n\\n\\'Well! WHAT are you?\\' said the Pigeon. \\'I can see you\\'re trying to\\ninvent something!\\'\\n\\n\\n\\'I--I\\'m a little girl,\\' said Alice, rather doubtfully, as she remembered\\nthe number of changes she had gone through that day.\\n\\n\\n\\'A likely story indeed!\\' said the Pigeon in a tone of the deepest\\ncontempt. \\'I\\'ve seen a good many little girls in my time, but never ONE\\nwith such a neck as that! No, no! You\\'re a serpent; and there\\'s no use\\ndenying it. I suppose you\\'ll be telling me next that you never tasted an\\negg!\\'\\n\\n\\n\\'I HAVE tasted eggs, certainly,\\' said Alice, who was a very truthful\\nchild; \\'but little girls eat eggs quite as much as serpents do, you\\nknow.\\'\\n\\n\\n\\'I don\\'t believe it,\\' said the Pigeon; \\'but if they do, why then they\\'re\\na kind of serpent, that\\'s all I can say.\\'\\n\\n\\nThis was such a new idea to Alice, that she was quite silent for a\\nminute or two, which gave the Pigeon the opportunity of adding, \\'You\\'re\\nlooking for eggs, I know THAT well enough; and what does it matter to me\\nwhether you\\'re a little girl or a serpent?\\'\\n\\n\\n\\'It matters a good deal to ME,\\' said Alice hastily; \\'but I\\'m not looking\\nfor eggs, as it happens; and if I was, I shouldn\\'t want YOURS: I don\\'t\\nlike them raw.\\'\\n\\n\\n\\'Well, be off, then!\\' said the Pigeon in a sulky tone, as it settled\\ndown again into its nest. Alice crouched down among the trees as well as\\nshe could, for her neck kept getting entangled among the branches, and\\nevery now and then she had to stop and untwist it. After a while she\\nremembered that she still held the pieces of mushroom in her hands, and\\nshe set to work very carefully, nibbling first at one and then at the\\nother, and growing sometimes taller and sometimes shorter, until she had\\nsucceeded in bringing herself down to her usual height.\\n\\n\\nIt was so long since she had been anything near the right size, that it\\nfelt quite strange at first; but she got used to it in a few minutes,\\nand began talking to herself, as usual. \\'Come, there\\'s half my plan done\\nnow! How puzzling all these changes are! I\\'m never sure what I\\'m going\\nto be, from one minute to another! However, I\\'ve got back to my right\\nsize: the next thing is, to get into that beautiful garden--how IS that\\nto be done, I wonder?\\' As she said this, she came suddenly upon an open\\nplace, with a little house in it about four feet high. \\'Whoever lives\\nthere,\\' thought Alice, \\'it\\'ll never do to come upon them THIS size: why,\\nI should frighten them out of their wits!\\' So she began nibbling at the\\nrighthand bit again, and did not venture to go near the house till she\\nhad brought herself down to nine inches high.\\n\\n\\n\\n\\n\\n\\n\\n\\nCHAPTER VI. Pig and Pepper\\n\\n\\nFor a minute or two she stood looking at the house, and wondering what\\nto do next, when suddenly a footman in livery came running out of the\\nwood--(she considered him to be a footman because he was in livery:\\notherwise, judging by his face only, she would have called him a\\nfish)--and rapped loudly at the door with his knuckles. It was opened\\nby another footman in livery, with a round face, and large eyes like a\\nfrog; and both footmen, Alice noticed, had powdered hair that curled all\\nover their heads. She felt very curious to know what it was all about,\\nand crept a little way out of the wood to listen.\\n\\n\\nThe Fish-Footman began by producing from under his arm a great letter,\\nnearly as large as himself, and this he handed over to the other,\\nsaying, in a solemn tone, \\'For the Duchess. An invitation from the Queen\\nto play croquet.\\' The Frog-Footman repeated, in the same solemn tone,\\nonly changing the order of the words a little, \\'From the Queen. An\\ninvitation for the Duchess to play croquet.\\'\\n\\n\\nThen they both bowed low, and their curls got entangled together.\\n\\n\\nAlice laughed so much at this, that she had to run back into the\\nwood for fear of their hearing her; and when she next peeped out the\\nFish-Footman was gone, and the other was sitting on the ground near the\\ndoor, staring stupidly up into the sky.\\n\\n\\nAlice went timidly up to the door, and knocked.\\n\\n\\n\\'There\\'s no sort of use in knocking,\\' said the Footman, \\'and that for\\ntwo reasons. First, because I\\'m on the same side of the door as you\\nare; secondly, because they\\'re making such a noise inside, no one could\\npossibly hear you.\\' And certainly there was a most extraordinary noise\\ngoing on within--a constant howling and sneezing, and every now and then\\na great crash, as if a dish or kettle had been broken to pieces.\\n\\n\\n\\'Please, then,\\' said Alice, \\'how am I to get in?\\'\\n\\n\\n\\'There might be some sense in your knocking,\\' the Footman went on\\nwithout attending to her, \\'if we had the door between us. For instance,\\nif you were INSIDE, you might knock, and I could let you out, you know.\\'\\nHe was looking up into the sky all the time he was speaking, and this\\nAlice thought decidedly uncivil. \\'But perhaps he can\\'t help it,\\' she\\nsaid to herself; \\'his eyes are so VERY nearly at the top of his head.\\nBut at any rate he might answer questions.--How am I to get in?\\' she\\nrepeated, aloud.\\n\\n\\n\\'I shall sit here,\\' the Footman remarked, \\'till tomorrow--\\'\\n\\n\\nAt this moment the door of the house opened, and a large plate came\\nskimming out, straight at the Footman\\'s head: it just grazed his nose,\\nand broke to pieces against one of the trees behind him.\\n\\n\\n\\'--or next day, maybe,\\' the Footman continued in the same tone, exactly\\nas if nothing had happened.\\n\\n\\n\\'How am I to get in?\\' asked Alice again, in a louder tone.\\n\\n\\n\\'ARE you to get in at all?\\' said the Footman. \\'That\\'s the first\\nquestion, you know.\\'\\n\\n\\nIt was, no doubt: only Alice did not like to be told so. \\'It\\'s really\\ndreadful,\\' she muttered to herself, \\'the way all the creatures argue.\\nIt\\'s enough to drive one crazy!\\'\\n\\n\\nThe Footman seemed to think this a good opportunity for repeating his\\nremark, with variations. \\'I shall sit here,\\' he said, \\'on and off, for\\ndays and days.\\'\\n\\n\\n\\'But what am I to do?\\' said Alice.\\n\\n\\n\\'Anything you like,\\' said the Footman, and began whistling.\\n\\n\\n\\'Oh, there\\'s no use in talking to him,\\' said Alice desperately: \\'he\\'s\\nperfectly idiotic!\\' And she opened the door and went in.\\n\\n\\nThe door led right into a large kitchen, which was full of smoke from\\none end to the other: the Duchess was sitting on a three-legged stool in\\nthe middle, nursing a baby; the cook was leaning over the fire, stirring\\na large cauldron which seemed to be full of soup.\\n\\n\\n\\'There\\'s certainly too much pepper in that soup!\\' Alice said to herself,\\nas well as she could for sneezing.\\n\\n\\nThere was certainly too much of it in the air. Even the Duchess\\nsneezed occasionally; and as for the baby, it was sneezing and howling\\nalternately without a moment\\'s pause. The only things in the kitchen\\nthat did not sneeze, were the cook, and a large cat which was sitting on\\nthe hearth and grinning from ear to ear.\\n\\n\\n\\'Please would you tell me,\\' said Alice, a little timidly, for she was\\nnot quite sure whether it was good manners for her to speak first, \\'why\\nyour cat grins like that?\\'\\n\\n\\n\\'It\\'s a Cheshire cat,\\' said the Duchess, \\'and that\\'s why. Pig!\\'\\n\\n\\nShe said the last word with such sudden violence that Alice quite\\njumped; but she saw in another moment that it was addressed to the baby,\\nand not to her, so she took courage, and went on again:--\\n\\n\\n\\'I didn\\'t know that Cheshire cats always grinned; in fact, I didn\\'t know\\nthat cats COULD grin.\\'\\n\\n\\n\\'They all can,\\' said the Duchess; \\'and most of \\'em do.\\'\\n\\n\\n\\'I don\\'t know of any that do,\\' Alice said very politely, feeling quite\\npleased to have got into a conversation.\\n\\n\\n\\'You don\\'t know much,\\' said the Duchess; \\'and that\\'s a fact.\\'\\n\\n\\nAlice did not at all like the tone of this remark, and thought it would\\nbe as well to introduce some other subject of conversation. While she\\nwas trying to fix on one, the cook took the cauldron of soup off the\\nfire, and at once set to work throwing everything within her reach at\\nthe Duchess and the baby--the fire-irons came first; then followed a\\nshower of saucepans, plates, and dishes. The Duchess took no notice of\\nthem even when they hit her; and the baby was howling so much already,\\nthat it was quite impossible to say whether the blows hurt it or not.\\n\\n\\n\\'Oh, PLEASE mind what you\\'re doing!\\' cried Alice, jumping up and down in\\nan agony of terror. \\'Oh, there goes his PRECIOUS nose\\'; as an unusually\\nlarge saucepan flew close by it, and very nearly carried it off.\\n\\n\\n\\'If everybody minded their own business,\\' the Duchess said in a hoarse\\ngrowl, \\'the world would go round a deal faster than it does.\\'\\n\\n\\n\\'Which would NOT be an advantage,\\' said Alice, who felt very glad to get\\nan opportunity of showing off a little of her knowledge. \\'Just think of\\nwhat work it would make with the day and night! You see the earth takes\\ntwenty-four hours to turn round on its axis--\\'\\n\\n\\n\\'Talking of axes,\\' said the Duchess, \\'chop off her head!\\'\\n\\n\\nAlice glanced rather anxiously at the cook, to see if she meant to take\\nthe hint; but the cook was busily stirring the soup, and seemed not to\\nbe listening, so she went on again: \\'Twenty-four hours, I THINK; or is\\nit twelve? I--\\'\\n\\n\\n\\'Oh, don\\'t bother ME,\\' said the Duchess; \\'I never could abide figures!\\'\\nAnd with that she began nursing her child again, singing a sort of\\nlullaby to it as she did so, and giving it a violent shake at the end of\\nevery line:\\n\\n\\n   \\'Speak roughly to your little boy,\\n    And beat him when he sneezes:\\n   He only does it to annoy,\\n    Because he knows it teases.\\'\\n\\n\\n         CHORUS.\\n\\n\\n (In which the cook and the baby joined):--\\n\\n\\n       \\'Wow! wow! wow!\\'\\n\\n\\nWhile the Duchess sang the second verse of the song, she kept tossing\\nthe baby violently up and down, and the poor little thing howled so,\\nthat Alice could hardly hear the words:--\\n\\n\\n   \\'I speak severely to my boy,\\n    I beat him when he sneezes;\\n   For he can thoroughly enjoy\\n    The pepper when he pleases!\\'\\n\\n\\n         CHORUS.\\n\\n\\n       \\'Wow! wow! wow!\\'\\n\\n\\n\\'Here! you may nurse it a bit, if you like!\\' the Duchess said to Alice,\\nflinging the baby at her as she spoke. \\'I must go and get ready to play\\ncroquet with the Queen,\\' and she hurried out of the room. The cook threw\\na frying-pan after her as she went out, but it just missed her.\\n\\n\\nAlice caught the baby with some difficulty, as it was a queer-shaped\\nlittle creature, and held out its arms and legs in all directions, \\'just\\nlike a star'"
            ],
            "application/vnd.google.colaboratory.intrinsic+json": {
              "type": "string"
            }
          },
          "metadata": {},
          "execution_count": 34
        }
      ]
    },
    {
      "cell_type": "code",
      "source": [
        "# Fit the text vectorizer to the training data\n",
        "# adapt : Fits the state of the preprocessing layer to the dataset\n",
        "text_vectorizer.adapt([rawReadCorpus])"
      ],
      "metadata": {
        "id": "ovKGnR2pY7E0"
      },
      "execution_count": 35,
      "outputs": []
    },
    {
      "cell_type": "code",
      "source": [
        "# Get the unique words in the vocabulary\n",
        "words_in_vocab = text_vectorizer.get_vocabulary() # Get all the unique words \n",
        "top_5_words = words_in_vocab[:5] # get the most common words\n",
        "bottom_5_words= words_in_vocab[-5:] # get the least common words\n",
        "print(f\"Number of words in vocab: {len(words_in_vocab)}\")\n",
        "print(f\"5 most common words: {top_5_words}\")\n",
        "print(f\"5 least common words: {bottom_5_words}\")"
      ],
      "metadata": {
        "colab": {
          "base_uri": "https://localhost:8080/"
        },
        "id": "btMfEF39ZMbY",
        "outputId": "be1118b5-4637-4c80-ffa0-98ba72fb9a1c"
      },
      "execution_count": 36,
      "outputs": [
        {
          "output_type": "stream",
          "name": "stdout",
          "text": [
            "Number of words in vocab: 1825\n",
            "5 most common words: ['', '[UNK]', 'the', 'and', 'to']\n",
            "5 least common words: ['absurd', 'above', 'able', 'abide', '1865']\n"
          ]
        }
      ]
    },
    {
      "cell_type": "markdown",
      "source": [
        "# Most Common Words"
      ],
      "metadata": {
        "id": "8pT66xNMNv_8"
      }
    },
    {
      "cell_type": "code",
      "source": [
        "from collections import Counter\n",
        "\n",
        "%timeit \n",
        "c = Counter(rawReadCorpus.split())\n",
        "most_common_words = c.most_common(20)"
      ],
      "metadata": {
        "id": "2L1JJewlFlrJ"
      },
      "execution_count": 39,
      "outputs": []
    },
    {
      "cell_type": "code",
      "source": [
        "most_common_words"
      ],
      "metadata": {
        "colab": {
          "base_uri": "https://localhost:8080/"
        },
        "id": "rDJRitJW5GwB",
        "outputId": "e6a310e4-0407-4706-970e-dbbb2eb0580a"
      },
      "execution_count": 40,
      "outputs": [
        {
          "output_type": "execute_result",
          "data": {
            "text/plain": [
              "[('the', 566),\n",
              " ('to', 368),\n",
              " ('and', 361),\n",
              " ('a', 302),\n",
              " ('she', 283),\n",
              " ('of', 221),\n",
              " ('was', 179),\n",
              " ('it', 175),\n",
              " ('in', 163),\n",
              " ('I', 156),\n",
              " ('said', 128),\n",
              " ('as', 116),\n",
              " ('her', 109),\n",
              " ('that', 109),\n",
              " ('you', 104),\n",
              " ('Alice', 99),\n",
              " ('at', 83),\n",
              " ('had', 82),\n",
              " ('be', 79),\n",
              " ('for', 73)]"
            ]
          },
          "metadata": {},
          "execution_count": 40
        }
      ]
    },
    {
      "cell_type": "code",
      "source": [
        "words = []\n",
        "count = []\n",
        "for i in most_common_words:\n",
        "  words.append(i[0])\n",
        "  count.append(i[1])"
      ],
      "metadata": {
        "id": "6iO3mpcC57qe"
      },
      "execution_count": 41,
      "outputs": []
    },
    {
      "cell_type": "code",
      "source": [
        "plt.figure(figsize = (20 , 8))\n",
        "plt.plot(words , count, color = 'blue' , marker = 'o' , mfc = 'pink')\n",
        "\n",
        "plt.xlabel(\"Terms\")\n",
        "plt.ylabel(\"Count\")\n",
        "plt.show()"
      ],
      "metadata": {
        "colab": {
          "base_uri": "https://localhost:8080/",
          "height": 447
        },
        "id": "DiT0mLSQ4d-g",
        "outputId": "6ea42006-7fbd-46a4-dbd7-9b0c3d2599b9"
      },
      "execution_count": 42,
      "outputs": [
        {
          "output_type": "display_data",
          "data": {
            "text/plain": [
              "<Figure size 1440x576 with 1 Axes>"
            ],
            "image/png": "[encoded data removed]"
          },
          "metadata": {
            "needs_background": "light"
          }
        }
      ]
    },
    {
      "cell_type": "markdown",
      "source": [
        "# Zip's Law \n",
        "* According to Zipf's law, the frequency of a given word is dependent on the inverse of it's rank.\n",
        "f(r, α) ∝ 1/r^α\n",
        "Here,\n",
        "\n",
        "α ≈ 1\n",
        "r = rank of a word\n",
        "f(r, α) = frequency in the corpus"
      ],
      "metadata": {
        "id": "3qg_td9S84NC"
      }
    },
    {
      "cell_type": "code",
      "source": [
        "from operator import itemgetter\n",
        "import nltk\n",
        "from nltk.corpus import stopwords\n",
        "nltk.download('stopwords')"
      ],
      "metadata": {
        "colab": {
          "base_uri": "https://localhost:8080/"
        },
        "id": "Gjezn4kzE-DY",
        "outputId": "cf680500-d501-4f39-ba85-70e660146acc"
      },
      "execution_count": 43,
      "outputs": [
        {
          "output_type": "stream",
          "name": "stderr",
          "text": [
            "[nltk_data] Downloading package stopwords to /root/nltk_data...\n",
            "[nltk_data]   Package stopwords is already up-to-date!\n"
          ]
        },
        {
          "output_type": "execute_result",
          "data": {
            "text/plain": [
              "True"
            ]
          },
          "metadata": {},
          "execution_count": 43
        }
      ]
    },
    {
      "cell_type": "code",
      "source": [
        "tokenlist = word_tokenize(rawReadCorpus)"
      ],
      "metadata": {
        "id": "1SxLa6GedWlO"
      },
      "execution_count": 44,
      "outputs": []
    },
    {
      "cell_type": "code",
      "source": [
        "frequency = {}\n",
        "words_doc = nltk.Text(tokenlist)\n",
        "stop_words = set(stopwords.words('english'))\n",
        "\n",
        "# %% Convert to lower case and remove stop words\n",
        "words_doc = [word.lower() for word in words_doc if word.isalpha()]\n",
        "words_doc = [word for word in words_doc if word not in stop_words]\n",
        "\n",
        "# %% Calculate the frequency of the words inside\n",
        "for word in words_doc :\n",
        "    count = frequency.get(word , 0)\n",
        "    frequency[ word ] = count + 1\n",
        "\n",
        "rank = 1\n",
        "column_header = ['Rank', 'Frequency', 'Frequency * Rank']\n",
        "df = pd.DataFrame( columns = column_header )\n",
        "collection = sorted(frequency.items(), key=itemgetter(1), reverse = True)"
      ],
      "metadata": {
        "id": "Od8nrTI0c0-_"
      },
      "execution_count": 46,
      "outputs": []
    },
    {
      "cell_type": "code",
      "source": [
        "# %%Creating a table for frequency * rank\n",
        "\n",
        "for word , freq in collection:\n",
        "    df.loc[word] = [rank, freq, rank*freq]\n",
        "    rank = rank + 1\n",
        "    \n",
        "print (df.head())\n",
        "\n",
        "plt.figure(figsize=(20,20))  \n",
        "plt.ylabel(\"Frequency\")\n",
        "plt.xlabel(\"Words\")\n",
        "plt.xticks(rotation=90)    \n",
        "\n",
        "for word , freq in collection[:30]:\n",
        "    plt.bar(word, freq)    \n",
        "plt.show()\n"
      ],
      "metadata": {
        "colab": {
          "base_uri": "https://localhost:8080/",
          "height": 1000
        },
        "id": "HR0VUq3iYd5U",
        "outputId": "a3aaa778-efcf-42ad-997a-e56a339415ab"
      },
      "execution_count": 47,
      "outputs": [
        {
          "output_type": "stream",
          "name": "stdout",
          "text": [
            "       Rank Frequency Frequency * Rank\n",
            "alice     1       163              163\n",
            "said      2       140              280\n",
            "little    3        78              234\n",
            "one       4        48              192\n",
            "like      5        42              210\n"
          ]
        },
        {
          "output_type": "display_data",
          "data": {
            "text/plain": [
              "<Figure size 1440x1440 with 1 Axes>"
            ],
            "image/png": "[encoded data removed]"
          },
          "metadata": {
            "needs_background": "light"
          }
        }
      ]
    },
    {
      "cell_type": "markdown",
      "source": [
        "We can see a large gap in their ranks. If we see the value of 'Frequency * Rank' (which is k), you can see that most of the values are nearly similar.\n",
        "## ***`Therefore it follows 'Zirf's Law'.`***"
      ],
      "metadata": {
        "id": "5ZyIxan1r04n"
      }
    },
    {
      "cell_type": "markdown",
      "source": [
        "# Collocations - Collocations are two or more words that tend to appear frequently together."
      ],
      "metadata": {
        "id": "9y_tl9DTgpDP"
      }
    },
    {
      "cell_type": "code",
      "source": [
        "nltk.download('webtext')"
      ],
      "metadata": {
        "colab": {
          "base_uri": "https://localhost:8080/"
        },
        "id": "Pmwu0thLiZub",
        "outputId": "8ed0ec3f-52c7-43fd-e7f2-01c25e96f97a"
      },
      "execution_count": 49,
      "outputs": [
        {
          "output_type": "stream",
          "name": "stderr",
          "text": [
            "[nltk_data] Downloading package webtext to /root/nltk_data...\n",
            "[nltk_data]   Package webtext is already up-to-date!\n"
          ]
        },
        {
          "output_type": "execute_result",
          "data": {
            "text/plain": [
              "True"
            ]
          },
          "metadata": {},
          "execution_count": 49
        }
      ]
    },
    {
      "cell_type": "code",
      "source": [
        "from nltk.corpus import webtext\n",
        "from nltk.collocations import BigramCollocationFinder\n",
        "from nltk.metrics import BigramAssocMeasures"
      ],
      "metadata": {
        "id": "5dH4iJA9iBmF"
      },
      "execution_count": 50,
      "outputs": []
    },
    {
      "cell_type": "code",
      "source": [
        "words = [w.lower() for w in webtext.words('/content/NLP_Corpus.txt')]\n",
        "\n",
        "biagram_collocation = BigramCollocationFinder.from_words(words)\n",
        "biagram_collocation.nbest(BigramAssocMeasures.likelihood_ratio, 15)\n"
      ],
      "metadata": {
        "colab": {
          "base_uri": "https://localhost:8080/"
        },
        "id": "3HdFhkjviCsw",
        "outputId": "6d43d4ef-dd09-4357-8aa1-d3c28cd40a92"
      },
      "execution_count": 51,
      "outputs": [
        {
          "output_type": "execute_result",
          "data": {
            "text/plain": [
              "[(',', 'and'),\n",
              " ('*', '*'),\n",
              " (\"'\", 't'),\n",
              " (\"'\", 's'),\n",
              " (\",'\", 'said'),\n",
              " ('.', \"'\"),\n",
              " (\"'\", 'll'),\n",
              " (\"'\", 'm'),\n",
              " ('said', 'alice'),\n",
              " ('said', 'the'),\n",
              " ('i', \"'\"),\n",
              " ('a', 'little'),\n",
              " ('she', 'had'),\n",
              " ('went', 'on'),\n",
              " ('to', 'be')]"
            ]
          },
          "metadata": {},
          "execution_count": 51
        }
      ]
    },
    {
      "cell_type": "code",
      "source": [
        "import string"
      ],
      "metadata": {
        "id": "MlI4Ihj9kSzJ"
      },
      "execution_count": 54,
      "outputs": []
    },
    {
      "cell_type": "code",
      "source": [
        "biagram_collocation = BigramCollocationFinder.from_words(words)\n",
        "Bi_Collocation = biagram_collocation.nbest(BigramAssocMeasures.likelihood_ratio, 15)\n",
        "Bi_Collocation"
      ],
      "metadata": {
        "colab": {
          "base_uri": "https://localhost:8080/"
        },
        "id": "jd_GcBf7kIIK",
        "outputId": "ec0ca50b-fa5d-445f-ed87-db3a3804b25d"
      },
      "execution_count": 87,
      "outputs": [
        {
          "output_type": "execute_result",
          "data": {
            "text/plain": [
              "[(',', 'and'),\n",
              " ('*', '*'),\n",
              " (\"'\", 't'),\n",
              " (\"'\", 's'),\n",
              " (\",'\", 'said'),\n",
              " ('.', \"'\"),\n",
              " (\"'\", 'll'),\n",
              " (\"'\", 'm'),\n",
              " ('said', 'alice'),\n",
              " ('said', 'the'),\n",
              " ('i', \"'\"),\n",
              " ('a', 'little'),\n",
              " ('she', 'had'),\n",
              " ('went', 'on'),\n",
              " ('to', 'be')]"
            ]
          },
          "metadata": {},
          "execution_count": 87
        }
      ]
    },
    {
      "cell_type": "code",
      "source": [
        "from nltk.corpus import stopwords\n",
        "\n",
        "stopset = set(stopwords.words('english'))\n",
        "filter_stops = lambda w: len(w) < 3 or w in stopset\n",
        "\n",
        "biagram_collocation.apply_word_filter(filter_stops)\n",
        "biagram_collocation.nbest(BigramAssocMeasures.likelihood_ratio, 15)\n"
      ],
      "metadata": {
        "colab": {
          "base_uri": "https://localhost:8080/"
        },
        "id": "QvF6ZchfiS8M",
        "outputId": "41d38c10-fc95-4549-8bc8-af1b83f2bd0e"
      },
      "execution_count": 52,
      "outputs": [
        {
          "output_type": "execute_result",
          "data": {
            "text/plain": [
              "[('said', 'alice'),\n",
              " ('white', 'kid'),\n",
              " ('kid', 'gloves'),\n",
              " ('golden', 'key'),\n",
              " ('mary', 'ann'),\n",
              " ('yer', 'honour'),\n",
              " ('thought', 'alice'),\n",
              " ('poor', 'alice'),\n",
              " ('right', 'size'),\n",
              " ('inches', 'high'),\n",
              " ('another', 'moment'),\n",
              " ('play', 'croquet'),\n",
              " ('one', 'side'),\n",
              " ('good', 'deal'),\n",
              " ('feet', 'high')]"
            ]
          },
          "metadata": {},
          "execution_count": 52
        }
      ]
    },
    {
      "cell_type": "code",
      "source": [
        "from nltk.collocations import TrigramCollocationFinder\n",
        "from nltk.metrics import TrigramAssocMeasures\n",
        "\n",
        "words = [w.lower() for w in webtext.words('/content/NLP_Corpus.txt')]\n",
        "\n",
        "trigram_collocation = TrigramCollocationFinder.from_words(words)\n",
        "trigram_collocation.apply_word_filter(filter_stops)\n",
        "trigram_collocation.apply_freq_filter(3)\n",
        "\n",
        "trigram_collocation.nbest(TrigramAssocMeasures.likelihood_ratio, 15)\n"
      ],
      "metadata": {
        "colab": {
          "base_uri": "https://localhost:8080/"
        },
        "id": "tyn_cSGaiNAX",
        "outputId": "bcfb638b-a3fd-4cc0-d04d-56bceef224e0"
      },
      "execution_count": 53,
      "outputs": [
        {
          "output_type": "execute_result",
          "data": {
            "text/plain": [
              "[('white', 'kid', 'gloves'),\n",
              " ('little', 'golden', 'key'),\n",
              " ('thought', 'poor', 'alice'),\n",
              " ('cats', 'eat', 'bats'),\n",
              " ('poor', 'little', 'thing')]"
            ]
          },
          "metadata": {},
          "execution_count": 53
        }
      ]
    },
    {
      "cell_type": "markdown",
      "source": [
        "# ***Language Model***\n",
        "Language models form the backbone of Natural Language Processing. They are a way of transforming qualitative information about text into quantitative information that machines can understand. "
      ],
      "metadata": {
        "id": "ZOT3qDBxsczU"
      }
    },
    {
      "cell_type": "code",
      "source": [
        "import string\n",
        "string.punctuation = string.punctuation +'“'+'”'+'-'+'’'+'‘'+'—'\n",
        "string.punctuation = string.punctuation.replace('.', '')\n",
        "file = open('/content/NLP_Corpus.txt').read()\n",
        "#preprocess data to remove newlines and special characters\n",
        "file_new = \"\"\n",
        "for line in file:\n",
        "    line_new = line.replace(\"n\", \" \")      \n",
        "    file_new += line_new\n",
        "preprocessedCorpus = \"\".join([char for char in file_new if char not in string.punctuation])"
      ],
      "metadata": {
        "id": "x8skazNI0JXa"
      },
      "execution_count": 97,
      "outputs": []
    },
    {
      "cell_type": "code",
      "source": [
        "sentences = sent_tokenize(preprocessedCorpus)\n",
        "print(\"List 5 sentences of preprocessed corpus are : \")\n",
        "print(sentences[0:5])\n",
        "words = word_tokenize(preprocessedCorpus)\n",
        "print(\"List 5 words/tokens of preprocessed corpus are : \")\n",
        "print(words[0:5])"
      ],
      "metadata": {
        "colab": {
          "base_uri": "https://localhost:8080/"
        },
        "id": "UCdtqUpc0Ht7",
        "outputId": "4208276a-2b9c-4579-ed62-7ec016b38972"
      },
      "execution_count": 100,
      "outputs": [
        {
          "output_type": "stream",
          "name": "stdout",
          "text": [
            "List 5 sentences of preprocessed corpus are : \n",
            "['\\ufeffAlices Adve tures i  Wo derla d by Lewis Carroll 1865\\n\\n\\nCHAPTER I. Dow  the RabbitHole\\n\\n\\nAlice was begi  i g to get very tired of sitti g by her sister o  the\\nba k a d of havi g  othi g to do o ce or twice she had peeped i to the\\nbook her sister was readi g but it had  o pictures or co versatio s i \\nit a d what is the use of a book thought Alice without pictures or\\nco versatio \\n\\n\\nSo she was co sideri g i  her ow  mi d as well as she could for the\\nhot day made her feel very sleepy a d stupid whether the pleasure\\nof maki g a daisychai  would be worth the trouble of getti g up a d\\npicki g the daisies whe  sudde ly a White Rabbit with pi k eyes ra \\nclose by her.', 'There was  othi g so VERY remarkable i  that  or did Alice thi k it so\\nVERY much out of the way to hear the Rabbit say to itself Oh dear\\nOh dear I shall be late whe  she thought it over afterwards it\\noccurred to her that she ought to have wo dered at this but at the time\\nit all seemed quite  atural but whe  the Rabbit actually TOOK A WATCH\\nOUT OF ITS WAISTCOATPOCKET a d looked at it a d the  hurried o \\nAlice started to her feet for it flashed across her mi d that she had\\n ever before see  a rabbit with either a waistcoatpocket or a watch\\nto take out of it a d bur i g with curiosity she ra  across the field\\nafter it a d fortu ately was just i  time to see it pop dow  a large\\nrabbithole u der the hedge.', 'I  a other mome t dow  we t Alice after it  ever o ce co sideri g how\\ni  the world she was to get out agai .', 'The rabbithole we t straight o  like a tu  el for some way a d the \\ndipped sudde ly dow  so sudde ly that Alice had  ot a mome t to thi k\\nabout stoppi g herself before she fou d herself falli g dow  a very deep\\nwell.', 'Either the well was very deep or she fell very slowly for she had\\nple ty of time as she we t dow  to look about her a d to wo der what was\\ngoi g to happe   ext.']\n",
            "List 5 words/tokens of preprocessed corpus are : \n",
            "['\\ufeffAlices', 'Adve', 'tures', 'i', 'Wo']\n"
          ]
        }
      ]
    },
    {
      "cell_type": "code",
      "source": [
        "nltk.download('stopwords')\n",
        "from nltk.corpus import stopwords\n",
        "stop_words = set(stopwords.words('english'))\n",
        "filtered_tokens = [w for w in words if not w.lower() in stop_words]"
      ],
      "metadata": {
        "colab": {
          "base_uri": "https://localhost:8080/"
        },
        "id": "42MfD4mfz9S_",
        "outputId": "985b48fe-43f8-4db9-9acd-146e68c09282"
      },
      "execution_count": 101,
      "outputs": [
        {
          "output_type": "stream",
          "name": "stderr",
          "text": [
            "[nltk_data] Downloading package stopwords to /root/nltk_data...\n",
            "[nltk_data]   Package stopwords is already up-to-date!\n"
          ]
        }
      ]
    },
    {
      "cell_type": "code",
      "source": [
        "from collections import Counter\n",
        "from nltk.util import ngrams\n",
        "unigrams=[]\n",
        "bigrams=[]\n",
        "trigrams=[]\n",
        "for content in (sentences): # *** Write code ***\n",
        "    content = content.lower()\n",
        "    content = word_tokenize(content)\n",
        "    for word in content:\n",
        "        if (word =='.'):\n",
        "            content.remove(word) \n",
        "        else:\n",
        "            unigrams.append(word)\n",
        "    bigrams.extend(ngrams(content,2))\n",
        "    ##similar for trigrams \n",
        "    # *** Write code ***\n",
        "    trigrams.extend(ngrams(content,3))\n",
        "print (\"Sample of n-grams:n\" + \"-------------------------\")\n",
        "print (\"--> UNIGRAMS: n\" + str(unigrams[:5]) + \" ...n\")\n",
        "print (\"--> BIGRAMS: n\" + str(bigrams[:5]) + \" ...n\")\n",
        "print (\"--> TRIGRAMS: n\" + str(trigrams[:5]) + \" ...n\")"
      ],
      "metadata": {
        "colab": {
          "base_uri": "https://localhost:8080/"
        },
        "id": "T6SgaELF0urX",
        "outputId": "f8b956d8-eadc-49ed-ebff-4c662bea2bdb"
      },
      "execution_count": 102,
      "outputs": [
        {
          "output_type": "stream",
          "name": "stdout",
          "text": [
            "Sample of n-grams:n-------------------------\n",
            "--> UNIGRAMS: n['\\ufeffalices', 'adve', 'tures', 'i', 'wo'] ...n\n",
            "--> BIGRAMS: n[('\\ufeffalices', 'adve'), ('adve', 'tures'), ('tures', 'i'), ('i', 'wo'), ('wo', 'derla')] ...n\n",
            "--> TRIGRAMS: n[('\\ufeffalices', 'adve', 'tures'), ('adve', 'tures', 'i'), ('tures', 'i', 'wo'), ('i', 'wo', 'derla'), ('wo', 'derla', 'd')] ...n\n"
          ]
        }
      ]
    },
    {
      "cell_type": "code",
      "source": [
        "def stopwords_removal(n, a):     \n",
        "    b = []\n",
        "    if n == 1:\n",
        "        for word in a:\n",
        "            count = 0\n",
        "            if word in stop_words:\n",
        "                count = 0\n",
        "            else:\n",
        "                count = 1\n",
        "            if (count==1):\n",
        "                b.append(word)\n",
        "        return(b)\n",
        "    else:\n",
        "        for pair in a:\n",
        "            count = 0\n",
        "            for word in pair:\n",
        "                if word in stop_words:\n",
        "                    count = count or 0\n",
        "                else:\n",
        "                    count = count or 1\n",
        "            if (count==1):\n",
        "                b.append(pair)\n",
        "        return(b)\n",
        "unigrams_Processed = stopwords_removal(1,unigrams)\n",
        "bigrams_Processed = stopwords_removal(2,bigrams)\n",
        "trigrams_Processed = stopwords_removal(3,trigrams)\n",
        "print (\"Sample of n-grams after processing:n\" + \"-------------------------\")\n",
        "print (\"--> UNIGRAMS: n\" + str(unigrams_Processed[:5]) + \" ...n\")\n",
        "print (\"--> BIGRAMS: n\" + str(bigrams_Processed[:5]) + \" ...n\")\n",
        "print (\"--> TRIGRAMS: n\" + str(trigrams_Processed[:5]) + \" ...n\")"
      ],
      "metadata": {
        "colab": {
          "base_uri": "https://localhost:8080/"
        },
        "id": "pep9oEJL1YJT",
        "outputId": "787c51c8-87c8-48b3-d2f2-28baf8d99459"
      },
      "execution_count": 104,
      "outputs": [
        {
          "output_type": "stream",
          "name": "stdout",
          "text": [
            "Sample of n-grams after processing:n-------------------------\n",
            "--> UNIGRAMS: n['\\ufeffalices', 'adve', 'tures', 'wo', 'derla'] ...n\n",
            "--> BIGRAMS: n[('\\ufeffalices', 'adve'), ('adve', 'tures'), ('tures', 'i'), ('i', 'wo'), ('wo', 'derla')] ...n\n",
            "--> TRIGRAMS: n[('\\ufeffalices', 'adve', 'tures'), ('adve', 'tures', 'i'), ('tures', 'i', 'wo'), ('i', 'wo', 'derla'), ('wo', 'derla', 'd')] ...n\n"
          ]
        }
      ]
    },
    {
      "cell_type": "code",
      "source": [
        "def get_ngrams_freqDist(n, ngramList):\n",
        "    ngram_freq_dict = {}\n",
        "    for ngram in ngramList:\n",
        "        if ngram in ngram_freq_dict:\n",
        "            ngram_freq_dict[ngram] += 1\n",
        "        else:\n",
        "            ngram_freq_dict[ngram] = 1\n",
        "    return ngram_freq_dict\n",
        "unigrams_freqDist = get_ngrams_freqDist(1, unigrams)\n",
        "unigrams_Processed_freqDist = get_ngrams_freqDist(1, unigrams_Processed)\n",
        "bigrams_freqDist = get_ngrams_freqDist(2, bigrams)\n",
        "bigrams_Processed_freqDist = get_ngrams_freqDist(2, bigrams_Processed)\n",
        "trigrams_freqDist = get_ngrams_freqDist(3, trigrams)\n",
        "trigrams_Processed_freqDist = get_ngrams_freqDist(3, trigrams_Processed)"
      ],
      "metadata": {
        "colab": {
          "base_uri": "https://localhost:8080/",
          "height": 235
        },
        "id": "bh6xDaxK1QHp",
        "outputId": "f2245681-df0d-4eb1-f5f0-7c1bbaa350da"
      },
      "execution_count": 1,
      "outputs": [
        {
          "output_type": "error",
          "ename": "NameError",
          "evalue": "ignored",
          "traceback": [
            "\u001b[0;31m---------------------------------------------------------------------------\u001b[0m",
            "\u001b[0;31mNameError\u001b[0m                                 Traceback (most recent call last)",
            "\u001b[0;32m<ipython-input-1-c711654dae08>\u001b[0m in \u001b[0;36m<module>\u001b[0;34m\u001b[0m\n\u001b[1;32m      7\u001b[0m             \u001b[0mngram_freq_dict\u001b[0m\u001b[0;34m[\u001b[0m\u001b[0mngram\u001b[0m\u001b[0;34m]\u001b[0m \u001b[0;34m=\u001b[0m \u001b[0;36m1\u001b[0m\u001b[0;34m\u001b[0m\u001b[0;34m\u001b[0m\u001b[0m\n\u001b[1;32m      8\u001b[0m     \u001b[0;32mreturn\u001b[0m \u001b[0mngram_freq_dict\u001b[0m\u001b[0;34m\u001b[0m\u001b[0;34m\u001b[0m\u001b[0m\n\u001b[0;32m----> 9\u001b[0;31m \u001b[0munigrams_freqDist\u001b[0m \u001b[0;34m=\u001b[0m \u001b[0mget_ngrams_freqDist\u001b[0m\u001b[0;34m(\u001b[0m\u001b[0;36m1\u001b[0m\u001b[0;34m,\u001b[0m \u001b[0munigrams\u001b[0m\u001b[0;34m)\u001b[0m\u001b[0;34m\u001b[0m\u001b[0;34m\u001b[0m\u001b[0m\n\u001b[0m\u001b[1;32m     10\u001b[0m \u001b[0munigrams_Processed_freqDist\u001b[0m \u001b[0;34m=\u001b[0m \u001b[0mget_ngrams_freqDist\u001b[0m\u001b[0;34m(\u001b[0m\u001b[0;36m1\u001b[0m\u001b[0;34m,\u001b[0m \u001b[0munigrams_Processed\u001b[0m\u001b[0;34m)\u001b[0m\u001b[0;34m\u001b[0m\u001b[0;34m\u001b[0m\u001b[0m\n\u001b[1;32m     11\u001b[0m \u001b[0mbigrams_freqDist\u001b[0m \u001b[0;34m=\u001b[0m \u001b[0mget_ngrams_freqDist\u001b[0m\u001b[0;34m(\u001b[0m\u001b[0;36m2\u001b[0m\u001b[0;34m,\u001b[0m \u001b[0mbigrams\u001b[0m\u001b[0;34m)\u001b[0m\u001b[0;34m\u001b[0m\u001b[0;34m\u001b[0m\u001b[0m\n",
            "\u001b[0;31mNameError\u001b[0m: name 'unigrams' is not defined"
          ]
        }
      ]
    },
    {
      "cell_type": "code",
      "source": [
        "smoothed_bigrams_probDist = {}\n",
        "V = len(unigrams_freqDist)\n",
        "for i in bigrams_freqDist:\n",
        "    smoothed_bigrams_probDist[i] = (bigrams_freqDist[i] + 1)/(unigrams_freqDist[i[0]]+V)\n",
        "smoothed_trigrams_probDist = {}\n",
        "for i in trigrams_freqDist:\n",
        "    smoothed_trigrams_probDist[i] = (trigrams_freqDist[i] + 1)/(bigrams_freqDist[i[0:2]]+V)"
      ],
      "metadata": {
        "id": "44rHngpR1Qjr"
      },
      "execution_count": null,
      "outputs": []
    },
    {
      "cell_type": "code",
      "source": [
        "smoothed_bigrams_probDist"
      ],
      "metadata": {
        "colab": {
          "base_uri": "https://localhost:8080/"
        },
        "id": "Q6CnC6Uu2ndd",
        "outputId": "4b6595fc-83ec-47cd-bfb6-43be5f364dc1"
      },
      "execution_count": 107,
      "outputs": [
        {
          "output_type": "execute_result",
          "data": {
            "text/plain": [
              "{('\\ufeffalices', 'adve'): 0.0011627906976744186,\n",
              " ('adve', 'tures'): 0.0011627906976744186,\n",
              " ('tures', 'i'): 0.0011627906976744186,\n",
              " ('i', 'wo'): 0.007249660172179429,\n",
              " ('wo', 'derla'): 0.0011435105774728416,\n",
              " ('derla', 'd'): 0.0011627906976744186,\n",
              " ('d', 'by'): 0.000882223202470225,\n",
              " ('by', 'lewis'): 0.001146131805157593,\n",
              " ('lewis', 'carroll'): 0.0011627906976744186,\n",
              " ('carroll', '1865'): 0.0011627906976744186,\n",
              " ('1865', 'chapter'): 0.0011627906976744186,\n",
              " ('chapter', 'i.'): 0.0011594202898550724,\n",
              " ('i.', 'dow'): 0.0011627906976744186,\n",
              " ('dow', 'the'): 0.005016722408026756,\n",
              " ('the', 'rabbithole'): 0.0012690355329949238,\n",
              " ('rabbithole', 'alice'): 0.0011614401858304297,\n",
              " ('alice', 'was'): 0.003727369542066028,\n",
              " ('was', 'begi'): 0.001566579634464752,\n",
              " ('begi', 'i'): 0.0028968713789107765,\n",
              " ('i', 'g'): 0.01359311282283643,\n",
              " ('g', 'to'): 0.02378731343283582,\n",
              " ('to', 'get'): 0.008372093023255815,\n",
              " ('get', 'very'): 0.001142857142857143,\n",
              " ('very', 'tired'): 0.0022396416573348264,\n",
              " ('tired', 'of'): 0.002898550724637681,\n",
              " ('of', 'sitti'): 0.0010282776349614395,\n",
              " ('sitti', 'g'): 0.0034802784222737818,\n",
              " ('g', 'by'): 0.0018656716417910447,\n",
              " ('by', 'her'): 0.0017191977077363897,\n",
              " ('her', 'sister'): 0.0016207455429497568,\n",
              " ('sister', 'o'): 0.0011621150493898896,\n",
              " ('o', 'the'): 0.01040582726326743,\n",
              " ('the', 'ba'): 0.0012690355329949238,\n",
              " ('ba', 'k'): 0.0011614401858304297,\n",
              " ('k', 'a'): 0.0027457440966501922,\n",
              " ('a', 'd'): 0.16614785992217898,\n",
              " ('d', 'of'): 0.004411116012351125,\n",
              " ('of', 'havi'): 0.0010282776349614395,\n",
              " ('havi', 'g'): 0.0034802784222737818,\n",
              " ('g', 'othi'): 0.0013992537313432835,\n",
              " ('othi', 'g'): 0.00865051903114187,\n",
              " ('to', 'do'): 0.0065116279069767444,\n",
              " ('do', 'o'): 0.0016703786191536749,\n",
              " ('o', 'ce'): 0.008844953173777315,\n",
              " ('ce', 'or'): 0.0017055144968732233,\n",
              " ('or', 'twice'): 0.0017084282460136675,\n",
              " ('twice', 'she'): 0.0011621150493898896,\n",
              " ('she', 'had'): 0.01775147928994083,\n",
              " ('had', 'peeped'): 0.0011068068622025456,\n",
              " ('peeped', 'i'): 0.0011614401858304297,\n",
              " ('i', 'to'): 0.017217942908926143,\n",
              " ('to', 'the'): 0.01581395348837209,\n",
              " ('the', 'book'): 0.0008460236886632825,\n",
              " ('book', 'her'): 0.001160092807424594,\n",
              " ('sister', 'was'): 0.0011621150493898896,\n",
              " ('was', 'readi'): 0.0010443864229765013,\n",
              " ('readi', 'g'): 0.0011627906976744186,\n",
              " ('g', 'but'): 0.0046641791044776115,\n",
              " ('but', 'it'): 0.00443213296398892,\n",
              " ('it', 'had'): 0.004050632911392405,\n",
              " ('had', 'o'): 0.003320420586607637,\n",
              " ('o', 'pictures'): 0.001040582726326743,\n",
              " ('pictures', 'or'): 0.0017411491584445734,\n",
              " ('or', 'co'): 0.0017084282460136675,\n",
              " ('co', 'versatio'): 0.005142857142857143,\n",
              " ('versatio', 's'): 0.0011580775911986102,\n",
              " ('s', 'i'): 0.002287021154945683,\n",
              " ('i', 'it'): 0.0018124150430448573,\n",
              " ('it', 'a'): 0.011139240506329114,\n",
              " ('d', 'what'): 0.002646669607410675,\n",
              " ('what', 'is'): 0.0022535211267605635,\n",
              " ('is', 'the'): 0.0033802816901408453,\n",
              " ('the', 'use'): 0.0012690355329949238,\n",
              " ('use', 'of'): 0.0017331022530329288,\n",
              " ('of', 'a'): 0.007712082262210797,\n",
              " ('a', 'book'): 0.0015564202334630351,\n",
              " ('book', 'thought'): 0.001160092807424594,\n",
              " ('thought', 'alice'): 0.007403189066059226,\n",
              " ('alice', 'without'): 0.0010649627263045794,\n",
              " ('without', 'pictures'): 0.0011560693641618498,\n",
              " ('versatio', 'so'): 0.0011580775911986102,\n",
              " ('so', 'she'): 0.007851934941110488,\n",
              " ('she', 'was'): 0.01824457593688363,\n",
              " ('was', 'co'): 0.0010443864229765013,\n",
              " ('co', 'sideri'): 0.0017142857142857142,\n",
              " ('sideri', 'g'): 0.0017431725740848344,\n",
              " ('g', 'i'): 0.0065298507462686565,\n",
              " ('i', 'her'): 0.0040779338468509285,\n",
              " ('her', 'ow'): 0.0016207455429497568,\n",
              " ('ow', 'mi'): 0.0011185682326621924,\n",
              " ('mi', 'd'): 0.004584527220630372,\n",
              " ('d', 'as'): 0.0061755624172915745,\n",
              " ('as', 'well'): 0.004324324324324324,\n",
              " ('well', 'as'): 0.0028653295128939827,\n",
              " ('as', 'she'): 0.02,\n",
              " ('she', 'could'): 0.009861932938856016,\n",
              " ('could', 'for'): 0.002277904328018223,\n",
              " ('for', 'the'): 0.006633499170812604,\n",
              " ('the', 'hot'): 0.0008460236886632825,\n",
              " ('hot', 'day'): 0.0011614401858304297,\n",
              " ('day', 'made'): 0.0011574074074074073,\n",
              " ('made', 'her'): 0.002306805074971165,\n",
              " ('her', 'feel'): 0.0010804970286331713,\n",
              " ('feel', 'very'): 0.0017411491584445734,\n",
              " ('very', 'sleepy'): 0.0011198208286674132,\n",
              " ('sleepy', 'a'): 0.0017421602787456446,\n",
              " ('d', 'stupid'): 0.0013233348037053375,\n",
              " ('stupid', 'whether'): 0.0011621150493898896,\n",
              " ('whether', 'the'): 0.0017401392111368909,\n",
              " ('the', 'pleasure'): 0.0008460236886632825,\n",
              " ('pleasure', 'of'): 0.0011627906976744186,\n",
              " ('of', 'maki'): 0.0010282776349614395,\n",
              " ('maki', 'g'): 0.004057971014492754,\n",
              " ('g', 'a'): 0.013992537313432836,\n",
              " ('a', 'daisychai'): 0.0007782101167315176,\n",
              " ('daisychai', 'would'): 0.0011627906976744186,\n",
              " ('would', 'be'): 0.005698005698005698,\n",
              " ('be', 'worth'): 0.0011068068622025456,\n",
              " ('worth', 'the'): 0.0011614401858304297,\n",
              " ('the', 'trouble'): 0.0008460236886632825,\n",
              " ('trouble', 'of'): 0.0011614401858304297,\n",
              " ('of', 'getti'): 0.0015424164524421595,\n",
              " ('getti', 'g'): 0.006936416184971098,\n",
              " ('g', 'up'): 0.002798507462686567,\n",
              " ('up', 'a'): 0.00622524052065648,\n",
              " ('d', 'picki'): 0.000882223202470225,\n",
              " ('picki', 'g'): 0.0011627906976744186,\n",
              " ('g', 'the'): 0.010261194029850746,\n",
              " ('the', 'daisies'): 0.0008460236886632825,\n",
              " ('daisies', 'whe'): 0.0011627906976744186,\n",
              " ('whe', 'sudde'): 0.0022740193291642978,\n",
              " ('sudde', 'ly'): 0.005770340450086555,\n",
              " ('ly', 'a'): 0.0028392958546280523,\n",
              " ('a', 'white'): 0.0007782101167315176,\n",
              " ('white', 'rabbit'): 0.002891844997108155,\n",
              " ('rabbit', 'with'): 0.0017251293847038527,\n",
              " ('with', 'pi'): 0.001119194180190263,\n",
              " ('pi', 'k'): 0.0011621150493898896,\n",
              " ('k', 'eyes'): 0.001098297638660077,\n",
              " ('eyes', 'ra'): 0.0011560693641618498,\n",
              " ('ra', 'close'): 0.0011574074074074073,\n",
              " ('close', 'by'): 0.0017401392111368909,\n",
              " ('there', 'was'): 0.012514220705346985,\n",
              " ('was', 'othi'): 0.0020887728459530026,\n",
              " ('g', 'so'): 0.0046641791044776115,\n",
              " ('so', 'very'): 0.0028042624789680315,\n",
              " ('very', 'remarkable'): 0.0011198208286674132,\n",
              " ('remarkable', 'i'): 0.0011621150493898896,\n",
              " ('i', 'that'): 0.002718622564567286,\n",
              " ('that', 'or'): 0.001081081081081081,\n",
              " ('or', 'did'): 0.0011389521640091116,\n",
              " ('did', 'alice'): 0.0011435105774728416,\n",
              " ('alice', 'thi'): 0.001597444089456869,\n",
              " ('thi', 'k'): 0.016769144773616546,\n",
              " ('k', 'it'): 0.001098297638660077,\n",
              " ('it', 'so'): 0.0015189873417721519,\n",
              " ('very', 'much'): 0.0022396416573348264,\n",
              " ('much', 'out'): 0.001148105625717566,\n",
              " ('out', 'of'): 0.015151515151515152,\n",
              " ('of', 'the'): 0.02519280205655527,\n",
              " ('the', 'way'): 0.00338409475465313,\n",
              " ('way', 'to'): 0.0017152658662092624,\n",
              " ('to', 'hear'): 0.0013953488372093023,\n",
              " ('hear', 'the'): 0.002318840579710145,\n",
              " ('the', 'rabbit'): 0.005922165820642978,\n",
              " ('rabbit', 'say'): 0.0017251293847038527,\n",
              " ('say', 'to'): 0.0017251293847038527,\n",
              " ('to', 'itself'): 0.0018604651162790699,\n",
              " ('itself', 'oh'): 0.0011594202898550724,\n",
              " ('oh', 'dear'): 0.0034344590726960505,\n",
              " ('dear', 'oh'): 0.0011500862564692352,\n",
              " ('dear', 'i'): 0.002875215641173088,\n",
              " ('i', 'shall'): 0.006796556411418215,\n",
              " ('shall', 'be'): 0.002306805074971165,\n",
              " ('be', 'late'): 0.0011068068622025456,\n",
              " ('late', 'whe'): 0.0011607661056297156,\n",
              " ('whe', 'she'): 0.006822057987492893,\n",
              " ('she', 'thought'): 0.0039447731755424065,\n",
              " ('thought', 'it'): 0.002277904328018223,\n",
              " ('it', 'over'): 0.0020253164556962027,\n",
              " ('over', 'afterwards'): 0.0011514104778353484,\n",
              " ('afterwards', 'it'): 0.0011627906976744186,\n",
              " ('it', 'occurred'): 0.0015189873417721519,\n",
              " ('occurred', 'to'): 0.0017431725740848344,\n",
              " ('to', 'her'): 0.010697674418604652,\n",
              " ('her', 'that'): 0.0016207455429497568,\n",
              " ('that', 'she'): 0.014054054054054054,\n",
              " ('she', 'ought'): 0.0009861932938856016,\n",
              " ('ought', 'to'): 0.004055619930475087,\n",
              " ('to', 'have'): 0.002325581395348837,\n",
              " ('have', 'wo'): 0.0011441647597254005,\n",
              " ('wo', 'dered'): 0.0011435105774728416,\n",
              " ('dered', 'at'): 0.0011621150493898896,\n",
              " ('at', 'this'): 0.0027685492801771874,\n",
              " ('this', 'but'): 0.0011179429849077697,\n",
              " ('but', 'at'): 0.002770083102493075,\n",
              " ('at', 'the'): 0.014396456256921373,\n",
              " ('the', 'time'): 0.0021150592216582064,\n",
              " ('time', 'it'): 0.001145475372279496,\n",
              " ('it', 'all'): 0.0020253164556962027,\n",
              " ('all', 'seemed'): 0.0011148272017837235,\n",
              " ('seemed', 'quite'): 0.0023014959723820483,\n",
              " ('quite', 'atural'): 0.0017152658662092624,\n",
              " ('atural', 'but'): 0.0011621150493898896,\n",
              " ('but', 'whe'): 0.0016620498614958448,\n",
              " ('whe', 'the'): 0.0028425241614553724,\n",
              " ('rabbit', 'actually'): 0.0011500862564692352,\n",
              " ('actually', 'took'): 0.0011627906976744186,\n",
              " ('took', 'a'): 0.0011534025374855825,\n",
              " ('a', 'watch'): 0.0011673151750972762,\n",
              " ('watch', 'out'): 0.0011621150493898896,\n",
              " ('of', 'its'): 0.0035989717223650387,\n",
              " ('its', 'waistcoatpocket'): 0.0011331444759206798,\n",
              " ('waistcoatpocket', 'a'): 0.0011621150493898896,\n",
              " ('d', 'looked'): 0.0013233348037053375,\n",
              " ('looked', 'at'): 0.0028851702250432777,\n",
              " ('at', 'it'): 0.0016611295681063123,\n",
              " ('d', 'the'): 0.020291133656815175,\n",
              " ('the', 'hurried'): 0.0008460236886632825,\n",
              " ('hurried', 'o'): 0.001160092807424594,\n",
              " ('o', 'alice'): 0.001040582726326743,\n",
              " ('alice', 'started'): 0.0010649627263045794,\n",
              " ('started', 'to'): 0.0011621150493898896,\n",
              " ('her', 'feet'): 0.0021609940572663426,\n",
              " ('feet', 'for'): 0.0017301038062283738,\n",
              " ('for', 'it'): 0.002763957987838585,\n",
              " ('it', 'flashed'): 0.0010126582278481013,\n",
              " ('flashed', 'across'): 0.0011627906976744186,\n",
              " ('across', 'her'): 0.0011621150493898896,\n",
              " ('her', 'mi'): 0.0010804970286331713,\n",
              " ('d', 'that'): 0.00529333921482135,\n",
              " ('had', 'ever'): 0.003320420586607637,\n",
              " ('ever', 'before'): 0.001142204454597373,\n",
              " ('before', 'see'): 0.0011547344110854503,\n",
              " ('see', 'a'): 0.0028457598178713715,\n",
              " ('a', 'rabbit'): 0.0011673151750972762,\n",
              " ('with', 'either'): 0.001119194180190263,\n",
              " ('either', 'a'): 0.0017371163867979154,\n",
              " ('a', 'waistcoatpocket'): 0.0007782101167315176,\n",
              " ('waistcoatpocket', 'or'): 0.0011621150493898896,\n",
              " ('or', 'a'): 0.002277904328018223,\n",
              " ('watch', 'to'): 0.0011621150493898896,\n",
              " ('to', 'take'): 0.0013953488372093023,\n",
              " ('take', 'out'): 0.0011580775911986102,\n",
              " ('of', 'it'): 0.004627249357326478,\n",
              " ('d', 'bur'): 0.000882223202470225,\n",
              " ('bur', 'i'): 0.0011607661056297156,\n",
              " ('g', 'with'): 0.0018656716417910447,\n",
              " ('with', 'curiosity'): 0.001119194180190263,\n",
              " ('curiosity', 'she'): 0.0011627906976744186,\n",
              " ('she', 'ra'): 0.0034516765285996054,\n",
              " ('ra', 'across'): 0.0011574074074074073,\n",
              " ('across', 'the'): 0.0011621150493898896,\n",
              " ('the', 'field'): 0.0008460236886632825,\n",
              " ('field', 'after'): 0.0011627906976744186,\n",
              " ('after', 'it'): 0.002875215641173088,\n",
              " ('d', 'fortu'): 0.000882223202470225,\n",
              " ('fortu', 'ately'): 0.0011627906976744186,\n",
              " ('ately', 'was'): 0.0011621150493898896,\n",
              " ('was', 'just'): 0.0026109660574412533,\n",
              " ('just', 'i'): 0.0022988505747126436,\n",
              " ('i', 'time'): 0.0022655188038060714,\n",
              " ('time', 'to'): 0.003436426116838488,\n",
              " ('to', 'see'): 0.0051162790697674414,\n",
              " ('see', 'it'): 0.0022766078542970974,\n",
              " ('it', 'pop'): 0.0010126582278481013,\n",
              " ('pop', 'dow'): 0.0011627906976744186,\n",
              " ('dow', 'a'): 0.007803790412486065,\n",
              " ('a', 'large'): 0.004669260700389105,\n",
              " ('large', 'rabbithole'): 0.0011500862564692352,\n",
              " ('rabbithole', 'u'): 0.0011614401858304297,\n",
              " ('u', 'der'): 0.006296508299942759,\n",
              " ('der', 'the'): 0.003436426116838488,\n",
              " ('the', 'hedge'): 0.0012690355329949238,\n",
              " ('i', 'a'): 0.02492070684186679,\n",
              " ('a', 'other'): 0.0062256809338521405,\n",
              " ('other', 'mome'): 0.0034227039361095267,\n",
              " ('mome', 't'): 0.011500862564692352,\n",
              " ('t', 'dow'): 0.002122015915119363,\n",
              " ('dow', 'we'): 0.0011148272017837235,\n",
              " ('we', 't'): 0.018760659465605456,\n",
              " ('t', 'alice'): 0.002122015915119363,\n",
              " ('alice', 'after'): 0.0010649627263045794,\n",
              " ('it', 'ever'): 0.0010126582278481013,\n",
              " ('ever', 'o'): 0.001142204454597373,\n",
              " ('ce', 'co'): 0.0011370096645821489,\n",
              " ('g', 'how'): 0.0018656716417910447,\n",
              " ('how', 'i'): 0.0017084282460136675,\n",
              " ('i', 'the'): 0.019483461712732214,\n",
              " ('the', 'world'): 0.0021150592216582064,\n",
              " ('world', 'she'): 0.0011607661056297156,\n",
              " ('was', 'to'): 0.001566579634464752,\n",
              " ('get', 'out'): 0.0034285714285714284,\n",
              " ('out', 'agai'): 0.0016835016835016834,\n",
              " ('rabbithole', 'we'): 0.0011614401858304297,\n",
              " ('t', 'straight'): 0.0010610079575596816,\n",
              " ('straight', 'o'): 0.0011621150493898896,\n",
              " ('o', 'like'): 0.001040582726326743,\n",
              " ('like', 'a'): 0.0068143100511073255,\n",
              " ('a', 'tu'): 0.0007782101167315176,\n",
              " ('tu', 'el'): 0.0011627906976744186,\n",
              " ('el', 'for'): 0.0011627906976744186,\n",
              " ('for', 'some'): 0.003316749585406302,\n",
              " ('some', 'way'): 0.0011507479861910242,\n",
              " ('way', 'a'): 0.002287021154945683,\n",
              " ('the', 'dipped'): 0.0008460236886632825,\n",
              " ('dipped', 'sudde'): 0.0011627906976744186,\n",
              " ('ly', 'dow'): 0.001135718341851221,\n",
              " ('dow', 'so'): 0.0011148272017837235,\n",
              " ('so', 'sudde'): 0.0011217049915872126,\n",
              " ('ly', 'that'): 0.001135718341851221,\n",
              " ('that', 'alice'): 0.002702702702702703,\n",
              " ('alice', 'had'): 0.005324813631522897,\n",
              " ('had', 'ot'): 0.003320420586607637,\n",
              " ('ot', 'a'): 0.0045045045045045045,\n",
              " ('a', 'mome'): 0.0023346303501945525,\n",
              " ('t', 'to'): 0.005835543766578249,\n",
              " ('to', 'thi'): 0.0018604651162790699,\n",
              " ('k', 'about'): 0.001098297638660077,\n",
              " ('about', 'stoppi'): 0.001135718341851221,\n",
              " ('stoppi', 'g'): 0.0011627906976744186,\n",
              " ('g', 'herself'): 0.0018656716417910447,\n",
              " ('herself', 'before'): 0.001129305477131564,\n",
              " ('before', 'she'): 0.0023094688221709007,\n",
              " ('she', 'fou'): 0.004930966469428008,\n",
              " ('fou', 'd'): 0.013769363166953529,\n",
              " ('d', 'herself'): 0.002646669607410675,\n",
              " ('herself', 'falli'): 0.001129305477131564,\n",
              " ('falli', 'g'): 0.0017431725740848344,\n",
              " ('g', 'dow'): 0.005597014925373134,\n",
              " ('a', 'very'): 0.004280155642023347,\n",
              " ('very', 'deep'): 0.0016797312430011197,\n",
              " ('deep', 'well'): 0.0011614401858304297,\n",
              " ('either', 'the'): 0.0017371163867979154,\n",
              " ('the', 'well'): 0.0012690355329949238,\n",
              " ('well', 'was'): 0.001146131805157593,\n",
              " ('was', 'very'): 0.0036553524804177544,\n",
              " ('deep', 'or'): 0.0011614401858304297,\n",
              " ('or', 'she'): 0.0011389521640091116,\n",
              " ('she', 'fell'): 0.0014792899408284023,\n",
              " ('fell', 'very'): 0.001160092807424594,\n",
              " ('very', 'slowly'): 0.0011198208286674132,\n",
              " ('slowly', 'for'): 0.0011614401858304297,\n",
              " ('for', 'she'): 0.004422332780541736,\n",
              " ('had', 'ple'): 0.0011068068622025456,\n",
              " ('ple', 'ty'): 0.0011627906976744186,\n",
              " ('ty', 'of'): 0.0011621150493898896,\n",
              " ('of', 'time'): 0.0010282776349614395,\n",
              " ('time', 'as'): 0.001718213058419244,\n",
              " ('she', 'we'): 0.0073964497041420114,\n",
              " ('dow', 'to'): 0.0033444816053511705,\n",
              " ('to', 'look'): 0.002325581395348837,\n",
              " ('look', 'about'): 0.001156737998843262,\n",
              " ('about', 'her'): 0.0028392958546280523,\n",
              " ('her', 'a'): 0.0037817396002160996,\n",
              " ('d', 'to'): 0.0030877812086457872,\n",
              " ('to', 'wo'): 0.0009302325581395349,\n",
              " ('wo', 'der'): 0.009719839908519153,\n",
              " ('der', 'what'): 0.004009163802978236,\n",
              " ('what', 'was'): 0.0022535211267605635,\n",
              " ('was', 'goi'): 0.003133159268929504,\n",
              " ('goi', 'g'): 0.008083140877598153,\n",
              " ('to', 'happe'): 0.0018604651162790699,\n",
              " ('happe', 'ext'): 0.001729106628242075,\n",
              " ('first', 'she'): 0.0022975301550832855,\n",
              " ('she', 'tried'): 0.004437869822485207,\n",
              " ('tried', 'to'): 0.004039238315060588,\n",
              " ('look', 'dow'): 0.001156737998843262,\n",
              " ('d', 'make'): 0.000882223202470225,\n",
              " ('make', 'out'): 0.0023094688221709007,\n",
              " ('out', 'what'): 0.0016835016835016834,\n",
              " ('what', 'she'): 0.0016901408450704226,\n",
              " ('was', 'comi'): 0.0020887728459530026,\n",
              " ('comi', 'g'): 0.0034782608695652175,\n",
              " ('to', 'but'): 0.0009302325581395349,\n",
              " ('it', 'was'): 0.021772151898734177,\n",
              " ('was', 'too'): 0.0026109660574412533,\n",
              " ('too', 'dark'): 0.0011554015020219526,\n",
              " ('dark', 'to'): 0.0011607661056297156,\n",
              " ('a', 'ythi'): 0.005836575875486381,\n",
              " ('ythi', 'g'): 0.008078476630121177,\n",
              " ('the', 'she'): 0.0021150592216582064,\n",
              " ('she', 'looked'): 0.0034516765285996054,\n",
              " ('the', 'sides'): 0.0008460236886632825,\n",
              " ('sides', 'of'): 0.0023228803716608595,\n",
              " ('well', 'a'): 0.001146131805157593,\n",
              " ('d', 'oticed'): 0.000882223202470225,\n",
              " ('oticed', 'that'): 0.001160092807424594,\n",
              " ('that', 'they'): 0.0016216216216216215,\n",
              " ('they', 'were'): 0.00398406374501992,\n",
              " ('were', 'filled'): 0.0011467889908256881,\n",
              " ('filled', 'with'): 0.0017431725740848344,\n",
              " ('with', 'cupboards'): 0.001119194180190263,\n",
              " ('cupboards', 'a'): 0.0011621150493898896,\n",
              " ('d', 'bookshelves'): 0.000882223202470225,\n",
              " ('bookshelves', 'here'): 0.0011627906976744186,\n",
              " ('here', 'a'): 0.0028620492272467086,\n",
              " ('d', 'there'): 0.00176444640494045,\n",
              " ('there', 'she'): 0.0011376564277588168,\n",
              " ('she', 'saw'): 0.0014792899408284023,\n",
              " ('saw', 'maps'): 0.0011607661056297156,\n",
              " ('maps', 'a'): 0.0011627906976744186,\n",
              " ('d', 'pictures'): 0.000882223202470225,\n",
              " ('pictures', 'hu'): 0.0011607661056297156,\n",
              " ('hu', 'g'): 0.001160092807424594,\n",
              " ('g', 'upo'): 0.0013992537313432835,\n",
              " ('upo', 'pegs'): 0.0011560693641618498,\n",
              " ('she', 'took'): 0.0019723865877712033,\n",
              " ('took', 'dow'): 0.0011534025374855825,\n",
              " ('a', 'jar'): 0.0007782101167315176,\n",
              " ('jar', 'from'): 0.0011621150493898896,\n",
              " ('from', 'o'): 0.0023054755043227667,\n",
              " ('o', 'e'): 0.025494276795005204,\n",
              " ('e', 'of'): 0.007654455986878075,\n",
              " ('the', 'shelves'): 0.0008460236886632825,\n",
              " ('shelves', 'as'): 0.0011627906976744186,\n",
              " ('she', 'passed'): 0.0009861932938856016,\n",
              " ('passed', 'it'): 0.0011627906976744186,\n",
              " ('was', 'labelled'): 0.0010443864229765013,\n",
              " ('labelled', 'orange'): 0.0011627906976744186,\n",
              " ('orange', 'marmalade'): 0.0011627906976744186,\n",
              " ('marmalade', 'but'): 0.0011627906976744186,\n",
              " ('but', 'to'): 0.0016620498614958448,\n",
              " ('her', 'great'): 0.0016207455429497568,\n",
              " ('great', 'disappoi'): 0.001152073732718894,\n",
              " ('disappoi', 'tme'): 0.0011627906976744186,\n",
              " ('tme', 't'): 0.0011621150493898896,\n",
              " ('t', 'it'): 0.002122015915119363,\n",
              " ('was', 'empty'): 0.0010443864229765013,\n",
              " ('empty', 'she'): 0.0011627906976744186,\n",
              " ('she', 'did'): 0.004437869822485207,\n",
              " ('did', 'ot'): 0.007432818753573471,\n",
              " ('ot', 'like'): 0.0016891891891891893,\n",
              " ('like', 'to'): 0.0034071550255536627,\n",
              " ('to', 'drop'): 0.0009302325581395349,\n",
              " ('drop', 'the'): 0.0011627906976744186,\n",
              " ('the', 'jar'): 0.0008460236886632825,\n",
              " ('jar', 'for'): 0.0011621150493898896,\n",
              " ('for', 'fear'): 0.001658374792703151,\n",
              " ('fear', 'of'): 0.0017421602787456446,\n",
              " ('of', 'killi'): 0.0010282776349614395,\n",
              " ('killi', 'g'): 0.0011627906976744186,\n",
              " ('g', 'somebody'): 0.0009328358208955224,\n",
              " ('somebody', 'so'): 0.0011614401858304297,\n",
              " ('so', 'ma'): 0.0028042624789680315,\n",
              " ('ma', 'aged'): 0.0028785261945883708,\n",
              " ('aged', 'to'): 0.0017411491584445734,\n",
              " ('to', 'put'): 0.0013953488372093023,\n",
              " ('put', 'it'): 0.0028851702250432777,\n",
              " ('it', 'i'): 0.004556962025316456,\n",
              " ('to', 'o'): 0.0027906976744186047,\n",
              " ('the', 'cupboards'): 0.0008460236886632825,\n",
              " ('cupboards', 'as'): 0.0011621150493898896,\n",
              " ('fell', 'past'): 0.001160092807424594,\n",
              " ('past', 'it'): 0.0011627906976744186,\n",
              " ('well', 'thought'): 0.001146131805157593,\n",
              " ('alice', 'to'): 0.005324813631522897,\n",
              " ('to', 'herself'): 0.012093023255813953,\n",
              " ('herself', 'after'): 0.001129305477131564,\n",
              " ('after', 'such'): 0.0011500862564692352,\n",
              " ('such', 'a'): 0.009753298909925417,\n",
              " ('a', 'fall'): 0.0011673151750972762,\n",
              " ('fall', 'as'): 0.001160092807424594,\n",
              " ('as', 'this'): 0.0016216216216216215,\n",
              " ('this', 'i'): 0.0011179429849077697,\n",
              " ('shall', 'thi'): 0.0011534025374855825,\n",
              " ('k', 'othi'): 0.001098297638660077,\n",
              " ('g', 'of'): 0.005597014925373134,\n",
              " ('of', 'tumbli'): 0.0010282776349614395,\n",
              " ('tumbli', 'g'): 0.0011627906976744186,\n",
              " ('dow', 'stairs'): 0.0016722408026755853,\n",
              " ('stairs', 'how'): 0.0011614401858304297,\n",
              " ('how', 'brave'): 0.0011389521640091116,\n",
              " ('brave', 'theyll'): 0.0011627906976744186,\n",
              " ('theyll', 'all'): 0.0011607661056297156,\n",
              " ('all', 'thi'): 0.0011148272017837235,\n",
              " ('k', 'me'): 0.002196595277320154,\n",
              " ('me', 'at'): 0.001694915254237288,\n",
              " ('at', 'home'): 0.0016611295681063123,\n",
              " ('home', 'why'): 0.0011607661056297156,\n",
              " ('why', 'i'): 0.0028785261945883708,\n",
              " ('i', 'would'): 0.0018124150430448573,\n",
              " ('would', 't'): 0.003418803418803419,\n",
              " ('t', 'say'): 0.0010610079575596816,\n",
              " ('say', 'a'): 0.0023001725129384704,\n",
              " ('g', 'about'): 0.005130597014925373,\n",
              " ('about', 'it'): 0.003975014196479273,\n",
              " ('it', 'eve'): 0.0010126582278481013,\n",
              " ('eve', 'if'): 0.0017381228273464658,\n",
              " ('if', 'i'): 0.006787330316742082,\n",
              " ('i', 'fell'): 0.0009062075215224287,\n",
              " ('fell', 'off'): 0.001160092807424594,\n",
              " ('off', 'the'): 0.0034344590726960505,\n",
              " ('the', 'top'): 0.0025380710659898475,\n",
              " ('top', 'of'): 0.002900232018561485,\n",
              " ('the', 'house'): 0.004653130287648054,\n",
              " ('house', 'which'): 0.001154068090017311,\n",
              " ('which', 'was'): 0.004,\n",
              " ('very', 'likely'): 0.0022396416573348264,\n",
              " ('likely', 'true'): 0.0011607661056297156,\n",
              " ('dow', 'dow'): 0.002787068004459309,\n",
              " ('would', 'the'): 0.0011396011396011395,\n",
              " ('the', 'fall'): 0.0012690355329949238,\n",
              " ('fall', 'never'): 0.001160092807424594,\n",
              " ('never', 'come'): 0.0011621150493898896,\n",
              " ('come', 'to'): 0.0017261219792865361,\n",
              " ('to', 'a'): 0.007906976744186046,\n",
              " ('a', 'e'): 0.0015564202334630351,\n",
              " ('e', 'd'): 0.004373974849644614,\n",
              " ('d', 'i'): 0.0066166740185266875,\n",
              " ('der', 'how'): 0.001145475372279496,\n",
              " ('how', 'ma'): 0.0011389521640091116,\n",
              " ('ma', 'y'): 0.004029936672423719,\n",
              " ('y', 'miles'): 0.001141552511415525,\n",
              " ('miles', 'ive'): 0.0011621150493898896,\n",
              " ('ive', 'falle'): 0.0011514104778353484,\n",
              " ('falle', 'by'): 0.0011607661056297156,\n",
              " ('by', 'this'): 0.002292263610315186,\n",
              " ('this', 'time'): 0.005030743432084964,\n",
              " ('time', 'she'): 0.003436426116838488,\n",
              " ('she', 'said'): 0.007889546351084813,\n",
              " ('said', 'aloud'): 0.0010758472296933835,\n",
              " ('i', 'must'): 0.004531037607612143,\n",
              " ('must', 'be'): 0.006888633754305396,\n",
              " ('be', 'getti'): 0.0016602102933038186,\n",
              " ('g', 'somewhere'): 0.0009328358208955224,\n",
              " ('somewhere', 'ear'): 0.0011621150493898896,\n",
              " ('ear', 'the'): 0.003468208092485549,\n",
              " ('the', 'ce'): 0.0008460236886632825,\n",
              " ('ce', 'tre'): 0.0011370096645821489,\n",
              " ('tre', 'of'): 0.0011627906976744186,\n",
              " ('the', 'earth'): 0.001692047377326565,\n",
              " ('let', 'me'): 0.005196304849884526,\n",
              " ('me', 'see'): 0.0022598870056497176,\n",
              " ('see', 'that'): 0.0022766078542970974,\n",
              " ('that', 'would'): 0.0016216216216216215,\n",
              " ('be', 'four'): 0.0011068068622025456,\n",
              " ('four', 'thousa'): 0.0011594202898550724,\n",
              " ('thousa', 'd'): 0.0017431725740848344,\n",
              " ('d', 'miles'): 0.000882223202470225,\n",
              " ('miles', 'dow'): 0.0011621150493898896,\n",
              " ('dow', 'i'): 0.0033444816053511705,\n",
              " ('i', 'thi'): 0.0040779338468509285,\n",
              " ('k', 'for'): 0.001098297638660077,\n",
              " ('for', 'you'): 0.003316749585406302,\n",
              " ('you', 'see'): 0.0032240730789897904,\n",
              " ('see', 'alice'): 0.0011383039271485487,\n",
              " ('had', 'lear'): 0.0011068068622025456,\n",
              " ('lear', 't'): 0.0011607661056297156,\n",
              " ('t', 'several'): 0.0010610079575596816,\n",
              " ('several', 'thi'): 0.0011607661056297156,\n",
              " ('thi', 'gs'): 0.008384572386808273,\n",
              " ('gs', 'of'): 0.0011507479861910242,\n",
              " ('of', 'this'): 0.004627249357326478,\n",
              " ('this', 'sort'): 0.0016769144773616546,\n",
              " ('sort', 'i'): 0.0011554015020219526,\n",
              " ('her', 'lesso'): 0.0010804970286331713,\n",
              " ('lesso', 's'): 0.003474232773595831,\n",
              " ('the', 'schoolroom'): 0.0008460236886632825,\n",
              " ('schoolroom', 'a'): 0.0011627906976744186,\n",
              " ('d', 'though'): 0.000882223202470225,\n",
              " ('though', 'this'): 0.0011621150493898896,\n",
              " ('this', 'was'): 0.002794857462269424,\n",
              " ('was', 'ot'): 0.005221932114882507,\n",
              " ('very', 'good'): 0.002799552071668533,\n",
              " ('good', 'opportu'): 0.002304147465437788,\n",
              " ('opportu', 'ity'): 0.004057971014492754,\n",
              " ('ity', 'for'): 0.002318840579710145,\n",
              " ('for', 'showi'): 0.001105583195135434,\n",
              " ('showi', 'g'): 0.0017431725740848344,\n",
              " ('g', 'off'): 0.0018656716417910447,\n",
              " ('off', 'her'): 0.0017172295363480253,\n",
              " ('her', 'k'): 0.0021609940572663426,\n",
              " ('k', 'owledge'): 0.002196595277320154,\n",
              " ('owledge', 'as'): 0.0011614401858304297,\n",
              " ('as', 'there'): 0.002162162162162162,\n",
              " ('was', 'o'): 0.006266318537859008,\n",
              " ('o', 'o'): 0.004682622268470343,\n",
              " ('e', 'to'): 0.0010934937124111536,\n",
              " ('to', 'liste'): 0.0018604651162790699,\n",
              " ('liste', 'to'): 0.0017381228273464658,\n",
              " ('her', 'still'): 0.0010804970286331713,\n",
              " ('still', 'it'): 0.0017391304347826088,\n",
              " ('was', 'good'): 0.001566579634464752,\n",
              " ('good', 'practice'): 0.001152073732718894,\n",
              " ('practice', 'to'): 0.0011627906976744186,\n",
              " ('to', 'say'): 0.004651162790697674,\n",
              " ('say', 'it'): 0.0011500862564692352,\n",
              " ('over', 'yes'): 0.0011514104778353484,\n",
              " ('yes', 'thats'): 0.0011621150493898896,\n",
              " ('thats', 'about'): 0.001156737998843262,\n",
              " ('about', 'the'): 0.0017035775127768314,\n",
              " ('the', 'right'): 0.0038071065989847717,\n",
              " ('right', 'dista'): 0.0011527377521613833,\n",
              " ('dista', 'cebut'): 0.001160092807424594,\n",
              " ('cebut', 'the'): 0.0011627906976744186,\n",
              " ('the', 'i'): 0.0012690355329949238,\n",
              " ('what', 'latitude'): 0.0016901408450704226,\n",
              " ('latitude', 'or'): 0.0011621150493898896,\n",
              " ('or', 'lo'): 0.0017084282460136675,\n",
              " ('lo', 'gitude'): 0.0017211703958691911,\n",
              " ('gitude', 'ive'): 0.0011621150493898896,\n",
              " ('ive', 'got'): 0.0034542314335060447,\n",
              " ('got', 'to'): 0.005166475315729047,\n",
              " ('to', 'alice'): 0.0051162790697674414,\n",
              " ('o', 'idea'): 0.0015608740894901144,\n",
              " ('idea', 'what'): 0.0023161551823972205,\n",
              " ('latitude', 'was'): 0.0011621150493898896,\n",
              " ('was', 'or'): 0.0010443864229765013,\n",
              " ('gitude', 'either'): 0.0011621150493898896,\n",
              " ('either', 'but'): 0.0011580775911986102,\n",
              " ('but', 'thought'): 0.00110803324099723,\n",
              " ('thought', 'they'): 0.0011389521640091116,\n",
              " ('were', 'ice'): 0.0011467889908256881,\n",
              " ('ice', 'gra'): 0.001160092807424594,\n",
              " ('gra', 'd'): 0.0011627906976744186,\n",
              " ('d', 'words'): 0.000882223202470225,\n",
              " ('words', 'to'): 0.0011554015020219526,\n",
              " ('prese', 'tly'): 0.0017401392111368909,\n",
              " ('tly', 'she'): 0.0011560693641618498,\n",
              " ('she', 'bega'): 0.004930966469428008,\n",
              " ('bega', 'agai'): 0.0017201834862385322,\n",
              " ('der', 'if'): 0.002290950744558992,\n",
              " ('shall', 'fall'): 0.0011534025374855825,\n",
              " ('fall', 'right'): 0.001160092807424594,\n",
              " ('right', 'through'): 0.0011527377521613833,\n",
              " ('through', 'the'): 0.004048582995951417,\n",
              " ('earth', 'how'): 0.0011614401858304297,\n",
              " ('how', 'fu'): 0.0017084282460136675,\n",
              " ('fu', 'y'): 0.0017431725740848344,\n",
              " ('y', 'itll'): 0.0017123287671232876,\n",
              " ('itll', 'seem'): 0.0017371163867979154,\n",
              " ('seem', 'to'): 0.0023215322112594312,\n",
              " ('to', 'come'): 0.0018604651162790699,\n",
              " ('come', 'out'): 0.0011507479861910242,\n",
              " ('out', 'amo'): 0.001122334455667789,\n",
              " ('amo', 'g'): 0.005787037037037037,\n",
              " ('the', 'people'): 0.0008460236886632825,\n",
              " ('people', 'that'): 0.001160092807424594,\n",
              " ('that', 'walk'): 0.001081081081081081,\n",
              " ('walk', 'with'): 0.0011614401858304297,\n",
              " ('with', 'their'): 0.0016787912702853946,\n",
              " ('their', 'heads'): 0.002890173410404624,\n",
              " ('heads', 'dow'): 0.002318840579710145,\n",
              " ('dow', 'ward'): 0.0011148272017837235,\n",
              " ('ward', 'the'): 0.0011627906976744186,\n",
              " ('the', 'a'): 0.00338409475465313,\n",
              " ('a', 'tipathies'): 0.0007782101167315176,\n",
              " ('tipathies', 'i'): 0.0011627906976744186,\n",
              " ('k', 'she'): 0.001098297638660077,\n",
              " ('was', 'rather'): 0.0010443864229765013,\n",
              " ('rather', 'glad'): 0.001156737998843262,\n",
              " ('glad', 'there'): 0.0011614401858304297,\n",
              " ('e', 'liste'): 0.0010934937124111536,\n",
              " ('liste', 'i'): 0.0017381228273464658,\n",
              " ('g', 'this'): 0.0009328358208955224,\n",
              " ('as', 'it'): 0.008108108108108109,\n",
              " ('it', 'did'): 0.0020253164556962027,\n",
              " ('did', 't'): 0.004002287021154946,\n",
              " ('t', 'sou'): 0.0010610079575596816,\n",
              " ('sou', 'd'): 0.0017371163867979154,\n",
              " ('d', 'at'): 0.00176444640494045,\n",
              " ('at', 'all'): 0.0049833887043189366,\n",
              " ('all', 'the'): 0.007246376811594203,\n",
              " ('right', 'word'): 0.0011527377521613833,\n",
              " ('word', 'but'): 0.0011621150493898896,\n",
              " ('but', 'i'): 0.003878116343490305,\n",
              " ('shall', 'have'): 0.0017301038062283738,\n",
              " ('have', 'to'): 0.002288329519450801,\n",
              " ('to', 'ask'): 0.002325581395348837,\n",
              " ('ask', 'them'): 0.0011607661056297156,\n",
              " ('them', 'what'): 0.0011441647597254005,\n",
              " ('what', 'the'): 0.0028169014084507044,\n",
              " ('the', 'ame'): 0.001692047377326565,\n",
              " ('ame', 'of'): 0.0011614401858304297,\n",
              " ('the', 'cou'): 0.0008460236886632825,\n",
              " ('cou', 'try'): 0.0011627906976744186,\n",
              " ('try', 'is'): 0.0011580775911986102,\n",
              " ('is', 'you'): 0.0016901408450704226,\n",
              " ('you', 'k'): 0.009134873723804407,\n",
              " ('k', 'ow'): 0.021965952773201538,\n",
              " ('please', 'maam'): 0.0011580775911986102,\n",
              " ('maam', 'is'): 0.0011627906976744186,\n",
              " ('is', 'this'): 0.0011267605633802818,\n",
              " ('this', 'new'): 0.0011179429849077697,\n",
              " ('new', 'zeala'): 0.0011627906976744186,\n",
              " ('zeala', 'd'): 0.0011627906976744186,\n",
              " ('d', 'or'): 0.000882223202470225,\n",
              " ('or', 'australia'): 0.0011389521640091116,\n",
              " ('australia', 'a'): 0.0011627906976744186,\n",
              " ('d', 'she'): 0.01808557565063961,\n",
              " ('to', 'curtsey'): 0.0009302325581395349,\n",
              " ('curtsey', 'as'): 0.0011627906976744186,\n",
              " ('she', 'spokefa'): 0.0009861932938856016,\n",
              " ('spokefa', 'cy'): 0.0011627906976744186,\n",
              " ('cy', 'curtseying'): 0.0011614401858304297,\n",
              " ('curtseying', 'as'): 0.0011627906976744186,\n",
              " ('as', 'youre'): 0.001081081081081081,\n",
              " ('youre', 'falli'): 0.0011560693641618498,\n",
              " ('g', 'through'): 0.0013992537313432835,\n",
              " ('the', 'air'): 0.002961082910321489,\n",
              " ('air', 'do'): 0.0011587485515643105,\n",
              " ('do', 'you'): 0.005567928730512249,\n",
              " ('you', 'thi'): 0.0032240730789897904,\n",
              " ('k', 'you'): 0.0016474464579901153,\n",
              " ('you', 'could'): 0.0021493820526598604,\n",
              " ('could', 'ma'): 0.0011389521640091116,\n",
              " ('ma', 'age'): 0.0028785261945883708,\n",
              " ('age', 'it'): 0.002317497103128621,\n",
              " ('what', 'a'): 0.0033802816901408453,\n",
              " ('a', 'ig'): 0.0007782101167315176,\n",
              " ('ig', 'ora'): 0.0011627906976744186,\n",
              " ('ora', 't'): 0.0011627906976744186,\n",
              " ('t', 'little'): 0.0010610079575596816,\n",
              " ('little', 'girl'): 0.0022259321090706734,\n",
              " ('girl', 'shell'): 0.0011607661056297156,\n",
              " ('shell', 'thi'): 0.0011614401858304297,\n",
              " ('me', 'for'): 0.001694915254237288,\n",
              " ('for', 'aski'): 0.001105583195135434,\n",
              " ('aski', 'g'): 0.0017431725740848344,\n",
              " ('g', 'no'): 0.0009328358208955224,\n",
              " ('no', 'itll'): 0.001160092807424594,\n",
              " ('itll', 'ever'): 0.0017371163867979154,\n",
              " ('ever', 'do'): 0.002284408909194746,\n",
              " ('do', 'to'): 0.0022271714922048997,\n",
              " ('ask', 'perhaps'): 0.0011607661056297156,\n",
              " ('perhaps', 'i'): 0.0011580775911986102,\n",
              " ('shall', 'see'): 0.0011534025374855825,\n",
              " ('it', 'writte'): 0.0010126582278481013,\n",
              " ('writte', 'up'): 0.0011621150493898896,\n",
              " ('up', 'somewhere'): 0.0011318619128466328,\n",
              " ('g', 'else'): 0.0018656716417910447,\n",
              " ('else', 'to'): 0.0017401392111368909,\n",
              " ('do', 'so'): 0.0011135857461024498,\n",
              " ('so', 'alice'): 0.002243409983174425,\n",
              " ('alice', 'soo'): 0.0010649627263045794,\n",
              " ('soo', 'bega'): 0.0011500862564692352,\n",
              " ('bega', 'talki'): 0.0017201834862385322,\n",
              " ('talki', 'g'): 0.006358381502890174,\n",
              " ('g', 'agai'): 0.0023320895522388058,\n",
              " ('di', 'ahll'): 0.001722158438576349,\n",
              " ('ahll', 'miss'): 0.0011621150493898896,\n",
              " ('miss', 'me'): 0.0011621150493898896,\n",
              " ('me', 'very'): 0.0011299435028248588,\n",
              " ('much', 'to'): 0.001722158438576349,\n",
              " ('to', 'ight'): 0.0009302325581395349,\n",
              " ('ight', 'i'): 0.0011607661056297156,\n",
              " ('i', 'should'): 0.005437245129134572,\n",
              " ('should', 'thi'): 0.002310803004043905,\n",
              " ('k', 'di'): 0.001098297638660077,\n",
              " ('di', 'ah'): 0.006888633754305396,\n",
              " ('ah', 'was'): 0.0011547344110854503,\n",
              " ('was', 'the'): 0.004177545691906005,\n",
              " ('the', 'cat'): 0.0008460236886632825,\n",
              " ('i', 'hope'): 0.0009062075215224287,\n",
              " ('hope', 'theyll'): 0.0011614401858304297,\n",
              " ('theyll', 'remember'): 0.0011607661056297156,\n",
              " ('remember', 'her'): 0.0011587485515643105,\n",
              " ('her', 'saucer'): 0.0010804970286331713,\n",
              " ('saucer', 'of'): 0.0011627906976744186,\n",
              " ('of', 'milk'): 0.0010282776349614395,\n",
              " ('milk', 'at'): 0.0011627906976744186,\n",
              " ('at', 'teatime'): 0.0011074197120708748,\n",
              " ('ah', 'my'): 0.0017321016166281756,\n",
              " ('my', 'dear'): 0.0034227039361095267,\n",
              " ('i', 'wish'): 0.0040779338468509285,\n",
              " ('wish', 'you'): 0.0017321016166281756,\n",
              " ('you', 'were'): 0.0026867275658248252,\n",
              " ('were', 'dow'): 0.0011467889908256881,\n",
              " ('dow', 'here'): 0.0039018952062430325,\n",
              " ('here', 'with'): 0.0011448196908986834,\n",
              " ('with', 'me'): 0.001119194180190263,\n",
              " ('me', 'there'): 0.0011299435028248588,\n",
              " ('there', 'are'): 0.0011376564277588168,\n",
              " ('are', 'o'): 0.001146131805157593,\n",
              " ('o', 'mice'): 0.001040582726326743,\n",
              " ('mice', 'i'): 0.0011614401858304297,\n",
              " ('air', 'im'): 0.0011587485515643105,\n",
              " ('im', 'afraid'): 0.003986332574031891,\n",
              " ('afraid', 'but'): 0.0011574074074074073,\n",
              " ('but', 'you'): 0.00110803324099723,\n",
              " ('you', 'might'): 0.0021493820526598604,\n",
              " ('might', 'catch'): 0.0011534025374855825,\n",
              " ('catch', 'a'): 0.0017421602787456446,\n",
              " ('a', 'bat'): 0.0011673151750972762,\n",
              " ('bat', 'a'): 0.0011621150493898896,\n",
              " ('d', 'thats'): 0.00176444640494045,\n",
              " ('thats', 'very'): 0.001156737998843262,\n",
              " ('very', 'like'): 0.0016797312430011197,\n",
              " ('a', 'mouse'): 0.0019455252918287938,\n",
              " ('mouse', 'you'): 0.0011389521640091116,\n",
              " ('but', 'do'): 0.00110803324099723,\n",
              " ('do', 'cats'): 0.0022271714922048997,\n",
              " ('cats', 'eat'): 0.0023094688221709007,\n",
              " ('eat', 'bats'): 0.002304147465437788,\n",
              " ('bats', 'i'): 0.0011607661056297156,\n",
              " ('der', 'a'): 0.001145475372279496,\n",
              " ('d', 'here'): 0.0013233348037053375,\n",
              " ('here', 'alice'): 0.0011448196908986834,\n",
              " ('alice', 'bega'): 0.001597444089456869,\n",
              " ('bega', 'to'): 0.0028669724770642203,\n",
              " ('get', 'rather'): 0.001142857142857143,\n",
              " ('rather', 'sleepy'): 0.001156737998843262,\n",
              " ('d', 'we'): 0.002646669607410675,\n",
              " ('t', 'o'): 0.010610079575596816,\n",
              " ('o', 'sayi'): 0.001040582726326743,\n",
              " ('sayi', 'g'): 0.006362058993637941,\n",
              " ('herself', 'i'): 0.004517221908526256,\n",
              " ('a', 'dreamy'): 0.0007782101167315176,\n",
              " ('dreamy', 'sort'): 0.0011627906976744186,\n",
              " ('sort', 'of'): 0.005199306759098787,\n",
              " ('of', 'way'): 0.0010282776349614395,\n",
              " ('way', 'do'): 0.0011435105774728416,\n",
              " ('bats', 'do'): 0.0011607661056297156,\n",
              " ('bats', 'a'): 0.0011607661056297156,\n",
              " ('d', 'sometimes'): 0.00176444640494045,\n",
              " ('sometimes', 'do'): 0.0011607661056297156,\n",
              " ('do', 'bats'): 0.0011135857461024498,\n",
              " ('bats', 'eat'): 0.0011607661056297156,\n",
              " ('eat', 'cats'): 0.001152073732718894,\n",
              " ('cats', 'for'): 0.0011547344110854503,\n",
              " ('see', 'as'): 0.0011383039271485487,\n",
              " ('could', 't'): 0.0017084282460136675,\n",
              " ('t', 'a'): 0.003183023872679045,\n",
              " ('a', 'swer'): 0.0019455252918287938,\n",
              " ('swer', 'either'): 0.0011607661056297156,\n",
              " ('either', 'questio'): 0.0011580775911986102,\n",
              " ('questio', 'it'): 0.001154068090017311,\n",
              " ('t', 'much'): 0.0010610079575596816,\n",
              " ('much', 'matter'): 0.001148105625717566,\n",
              " ('matter', 'which'): 0.0011614401858304297,\n",
              " ('which', 'way'): 0.002857142857142857,\n",
              " ('way', 'she'): 0.0011435105774728416,\n",
              " ('she', 'put'): 0.0019723865877712033,\n",
              " ('she', 'felt'): 0.005424063116370809,\n",
              " ('felt', 'that'): 0.002308136180034622,\n",
              " ('was', 'dozi'): 0.0010443864229765013,\n",
              " ('dozi', 'g'): 0.0011627906976744186,\n",
              " ('off', 'a'): 0.0034344590726960505,\n",
              " ('d', 'had'): 0.0030877812086457872,\n",
              " ('had', 'just'): 0.0016602102933038186,\n",
              " ('just', 'begu'): 0.0011494252873563218,\n",
              " ('begu', 'to'): 0.0017431725740848344,\n",
              " ('to', 'dream'): 0.0009302325581395349,\n",
              " ('dream', 'that'): 0.0011627906976744186,\n",
              " ('was', 'walki'): 0.0010443864229765013,\n",
              " ('walki', 'g'): 0.0017431725740848344,\n",
              " ('g', 'ha'): 0.0009328358208955224,\n",
              " ('ha', 'd'): 0.005178365937859608,\n",
              " ('i', 'ha'): 0.0009062075215224287,\n",
              " ('d', 'with'): 0.00176444640494045,\n",
              " ('with', 'di'): 0.001119194180190263,\n",
              " ('ah', 'a'): 0.0011547344110854503,\n",
              " ('d', 'sayi'): 0.0013233348037053375,\n",
              " ('her', 'very'): 0.0010804970286331713,\n",
              " ('very', 'ear'): 0.0011198208286674132,\n",
              " ('ear', 'estly'): 0.0011560693641618498,\n",
              " ('estly', 'now'): 0.0011627906976744186,\n",
              " ('now', 'di'): 0.0011614401858304297,\n",
              " ('ah', 'tell'): 0.0011547344110854503,\n",
              " ('tell', 'me'): 0.004034582132564841,\n",
              " ('me', 'the'): 0.0011299435028248588,\n",
              " ('the', 'truth'): 0.0008460236886632825,\n",
              " ('truth', 'did'): 0.0011627906976744186,\n",
              " ('did', 'you'): 0.002287021154945683,\n",
              " ('you', 'ever'): 0.0026867275658248252,\n",
              " ('ever', 'eat'): 0.001142204454597373,\n",
              " ('eat', 'a'): 0.0017281105990783411,\n",
              " ('bat', 'whe'): 0.0011621150493898896,\n",
              " ('ly', 'thump'): 0.001135718341851221,\n",
              " ('thump', 'thump'): 0.0011621150493898896,\n",
              " ('thump', 'dow'): 0.0011621150493898896,\n",
              " ('dow', 'she'): 0.0016722408026755853,\n",
              " ('she', 'came'): 0.0029585798816568047,\n",
              " ('came', 'upo'): 0.002875215641173088,\n",
              " ('upo', 'a'): 0.004046242774566474,\n",
              " ('a', 'heap'): 0.0007782101167315176,\n",
              " ('heap', 'of'): 0.0011627906976744186,\n",
              " ('of', 'sticks'): 0.0010282776349614395,\n",
              " ('sticks', 'a'): 0.0011627906976744186,\n",
              " ('d', 'dry'): 0.000882223202470225,\n",
              " ('dry', 'leaves'): 0.0011587485515643105,\n",
              " ('leaves', 'a'): 0.001160092807424594,\n",
              " ('fall', 'was'): 0.001160092807424594,\n",
              " ('was', 'over'): 0.0020887728459530026,\n",
              " ('a', 'bit'): 0.0019455252918287938,\n",
              " ('bit', 'hurt'): 0.001156737998843262,\n",
              " ('hurt', 'a'): 0.0011614401858304297,\n",
              " ('she', 'jumped'): 0.0009861932938856016,\n",
              " ('jumped', 'up'): 0.0011614401858304297,\n",
              " ('up', 'o'): 0.0022637238256932655,\n",
              " ('o', 'to'): 0.001040582726326743,\n",
              " ('feet', 'i'): 0.0028835063437139563,\n",
              " ('t', 'she'): 0.003713527851458886,\n",
              " ('looked', 'up'): 0.0017311021350259665,\n",
              " ('up', 'but'): 0.0011318619128466328,\n",
              " ('was', 'all'): 0.0020887728459530026,\n",
              " ('all', 'dark'): 0.0011148272017837235,\n",
              " ('dark', 'overhead'): 0.0011607661056297156,\n",
              " ('overhead', 'before'): 0.0011627906976744186,\n",
              " ('before', 'her'): 0.0011547344110854503,\n",
              " ('her', 'was'): 0.0010804970286331713,\n",
              " ('was', 'a'): 0.009399477806788513,\n",
              " ('other', 'lo'): 0.0011409013120365088,\n",
              " ('lo', 'g'): 0.010327022375215147,\n",
              " ('g', 'passage'): 0.0009328358208955224,\n",
              " ('passage', 'a'): 0.0011614401858304297,\n",
              " ('the', 'white'): 0.0021150592216582064,\n",
              " ('rabbit', 'was'): 0.0017251293847038527,\n",
              " ('was', 'still'): 0.0010443864229765013,\n",
              " ('still', 'i'): 0.0017391304347826088,\n",
              " ('i', 'sight'): 0.0009062075215224287,\n",
              " ('sight', 'hurryi'): 0.0011607661056297156,\n",
              " ('hurryi', 'g'): 0.0011627906976744186,\n",
              " ('dow', 'it'): 0.0011148272017837235,\n",
              " ('to', 'be'): 0.01674418604651163,\n",
              " ('be', 'lost'): 0.0016602102933038186,\n",
              " ('lost', 'away'): 0.0011614401858304297,\n",
              " ('away', 'we'): 0.0011560693641618498,\n",
              " ('alice', 'like'): 0.0010649627263045794,\n",
              " ('like', 'the'): 0.003975014196479273,\n",
              " ('the', 'wi'): 0.0038071065989847717,\n",
              " ('wi', 'd'): 0.0011547344110854503,\n",
              " ('d', 'a'): 0.012792236435818262,\n",
              " ('d', 'was'): 0.004411116012351125,\n",
              " ('hear', 'it'): 0.0011594202898550724,\n",
              " ('it', 'say'): 0.0015189873417721519,\n",
              " ('say', 'as'): 0.0011500862564692352,\n",
              " ('it', 'tur'): 0.0015189873417721519,\n",
              " ('tur', 'ed'): 0.0051933064050779,\n",
              " ('ed', 'a'): 0.003414911781445646,\n",
              " ('a', 'cor'): 0.0007782101167315176,\n",
              " ('cor', 'er'): 0.0017421602787456446,\n",
              " ('er', 'oh'): 0.001160092807424594,\n",
              " ('oh', 'my'): 0.004006868918145392,\n",
              " ('my', 'ears'): 0.0011409013120365088,\n",
              " ('ears', 'a'): 0.0011621150493898896,\n",
              " ('d', 'whiskers'): 0.0013233348037053375,\n",
              " ('whiskers', 'how'): 0.0011621150493898896,\n",
              " ('how', 'late'): 0.0011389521640091116,\n",
              " ('late', 'its'): 0.0011607661056297156,\n",
              " ('its', 'getti'): 0.0011331444759206798,\n",
              " ('g', 'she'): 0.002798507462686567,\n",
              " ('was', 'close'): 0.0010443864229765013,\n",
              " ('close', 'behi'): 0.001160092807424594,\n",
              " ('behi', 'd'): 0.004057971014492754,\n",
              " ('d', 'it'): 0.0070577856197618,\n",
              " ('it', 'whe'): 0.0010126582278481013,\n",
              " ('she', 'tur'): 0.0014792899408284023,\n",
              " ('ed', 'the'): 0.0028457598178713715,\n",
              " ('the', 'cor'): 0.0008460236886632825,\n",
              " ('er', 'but'): 0.001160092807424594,\n",
              " ('but', 'the'): 0.006648199445983379,\n",
              " ('o', 'lo'): 0.001040582726326743,\n",
              " ('lo', 'ger'): 0.0017211703958691911,\n",
              " ('ger', 'to'): 0.0011594202898550724,\n",
              " ('be', 'see'): 0.0016602102933038186,\n",
              " ('see', 'she'): 0.0011383039271485487,\n",
              " ('a', 'lo'): 0.0038910505836575876,\n",
              " ('g', 'low'): 0.0009328358208955224,\n",
              " ('low', 'hall'): 0.0011594202898550724,\n",
              " ('hall', 'which'): 0.0011580775911986102,\n",
              " ('was', 'lit'): 0.0010443864229765013,\n",
              " ('lit', 'up'): 0.0011627906976744186,\n",
              " ('up', 'by'): 0.0022637238256932655,\n",
              " ('by', 'a'): 0.0017191977077363897,\n",
              " ('a', 'row'): 0.0011673151750972762,\n",
              " ('row', 'of'): 0.0017431725740848344,\n",
              " ('of', 'lamps'): 0.0010282776349614395,\n",
              " ('lamps', 'ha'): 0.0011627906976744186,\n",
              " ('ha', 'gi'): 0.0017261219792865361,\n",
              " ('gi', 'g'): 0.0052113491603937466,\n",
              " ('g', 'from'): 0.0023320895522388058,\n",
              " ('from', 'the'): 0.002881844380403458,\n",
              " ('the', 'roof'): 0.0021150592216582064,\n",
              " ('there', 'were'): 0.0022753128555176336,\n",
              " ('were', 'doors'): 0.0011467889908256881,\n",
              " ('doors', 'all'): 0.0011621150493898896,\n",
              " ('all', 'rou'): 0.0033444816053511705,\n",
              " ('rou', 'd'): 0.01206896551724138,\n",
              " ('the', 'hall'): 0.0025380710659898475,\n",
              " ('hall', 'but'): 0.0017371163867979154,\n",
              " ('but', 'they'): 0.002770083102493075,\n",
              " ('were', 'all'): 0.0022935779816513763,\n",
              " ('all', 'locked'): 0.0011148272017837235,\n",
              " ('locked', 'a'): 0.0011627906976744186,\n",
              " ('d', 'whe'): 0.0035288928098809,\n",
              " ('whe', 'alice'): 0.0011370096645821489,\n",
              " ('had', 'bee'): 0.004427227448810182,\n",
              " ('bee', 'all'): 0.0011534025374855825,\n",
              " ('way', 'dow'): 0.0011435105774728416,\n",
              " ('dow', 'o'): 0.002229654403567447,\n",
              " ('e', 'side'): 0.0032804811372334607,\n",
              " ('side', 'a'): 0.001735106998264893,\n",
              " ('d', 'up'): 0.0013233348037053375,\n",
              " ('up', 'the'): 0.003395585738539898,\n",
              " ('the', 'other'): 0.006345177664974619,\n",
              " ('other', 'tryi'): 0.0011409013120365088,\n",
              " ('tryi', 'g'): 0.00578368999421631,\n",
              " ('g', 'every'): 0.0013992537313432835,\n",
              " ...}"
            ]
          },
          "metadata": {},
          "execution_count": 107
        }
      ]
    },
    {
      "cell_type": "code",
      "source": [
        "testSent1 = \"There was a sudden jerk, a terrific convulsion of the limbs; and there he\"\n",
        "testSent2 = \"The hungry and destitute situation of the infant orphan was duly reported by\""
      ],
      "metadata": {
        "id": "p_uACA002pc6"
      },
      "execution_count": 108,
      "outputs": []
    },
    {
      "cell_type": "code",
      "source": [
        "token_1 = word_tokenize(testSent1)\n",
        "token_2 = word_tokenize(testSent2)\n",
        "token_3 = word_tokenize(testSent3)\n",
        "ngram_1 = {1:[], 2:[]}    \n",
        "ngram_2 = {1:[], 2:[]}\n",
        "ngram_3 = {1:[], 2:[]}\n",
        "for i in range(2):\n",
        "    ngram_1[i+1] = list(ngrams(token_1, i+1))[-1]\n",
        "    ngram_2[i+1] = list(ngrams(token_2, i+1))[-1]\n",
        "    ngram_3[i+1] = list(ngrams(token_3, i+1))[-1]\n",
        "print(\"Sentence 1: \", ngram_1,\"nSentence 2: \",ngram_2,\"nSentence 3: \",ngram_3)"
      ],
      "metadata": {
        "colab": {
          "base_uri": "https://localhost:8080/"
        },
        "id": "-Lj_qbm_3Bbp",
        "outputId": "21b53dbf-7076-488d-ddae-3d0bf7bd4336"
      },
      "execution_count": 121,
      "outputs": [
        {
          "output_type": "stream",
          "name": "stdout",
          "text": [
            "Sentence 1:  {1: ('he',), 2: ('there', 'he')} nSentence 2:  {1: ('down',), 2: ('sat', 'down')} nSentence 3:  {1: ('by',), 2: ('reported', 'by')}\n"
          ]
        }
      ]
    },
    {
      "cell_type": "code",
      "source": [
        "def predict_next_word(last_word,probDist):\n",
        "    next_word = {}\n",
        "    for k in probDist:\n",
        "        if k[0] == last_word[0]:\n",
        "            next_word[k[1]] = probDist[k]\n",
        "    k = Counter(next_word)\n",
        "    high = k.most_common(1) \n",
        "    return high[0]\n",
        "\n",
        "def predict_next_3_words(token,probDist):\n",
        "    pred1 = []\n",
        "    pred2 = []\n",
        "    next_word = {}\n",
        "    for i in probDist:\n",
        "        if i[0] == token:\n",
        "            next_word[i[1]] = probDist[i]\n",
        "    k = Counter(next_word)\n",
        "    high = k.most_common(2) \n",
        "    w1a = high[0]\n",
        "    w1b = high[1]\n",
        "    w2a = predict_next_word(w1a,probDist)\n",
        "    w3a = predict_next_word(w2a,probDist)\n",
        "    w2b = predict_next_word(w1b,probDist)\n",
        "    w3b = predict_next_word(w2b,probDist)\n",
        "    pred1.append(w1a)\n",
        "    pred1.append(w2a)\n",
        "    pred1.append(w3a)\n",
        "    pred2.append(w1b)\n",
        "    pred2.append(w2b)\n",
        "    pred2.append(w3b)\n",
        "    return pred1,pred2\n",
        "print(\"Predicting next 3 possible word sequences with smoothed bigram model : \")\n",
        "\n",
        "\n",
        "pred1,pred2 = predict_next_3_words(ngram_1[1][0],smoothed_bigrams_probDist)\n",
        "print(testSent1 + \" \" + pred1[0][0]+\" \"+pred1[1][0]+\" \"+pred1[2][0])\n",
        "print(testSent1 + \" \" + pred2[0][0]+\" \"+pred2[1][0]+\" \"+pred2[2][0])\n",
        "\n",
        "pred1,pred2 = predict_next_3_words(ngram_2[1][0],smoothed_bigrams_probDist)\n",
        "print(testSent3 + \" \" + pred1[0][0]+\" \"+pred1[1][0]+\" \"+pred1[2][0])\n",
        "print(testSent3 + \" \" + pred2[0][0]+\" \"+pred2[1][0]+\" \"+pred2[2][0])"
      ],
      "metadata": {
        "colab": {
          "base_uri": "https://localhost:8080/"
        },
        "id": "UmjCZnwv3F5F",
        "outputId": "4b2b47a1-38c6-461a-fd12-3bcae4adb1c2"
      },
      "execution_count": 140,
      "outputs": [
        {
          "output_type": "stream",
          "name": "stdout",
          "text": [
            "Predicting next 3 possible word sequences with smoothed bigram model : \n",
            "There was a sudden jerk, a terrific convulsion of the limbs; and there he was a d\n",
            "There was a sudden jerk, a terrific convulsion of the limbs; and there he came upo a\n",
            "The hungry and destitute situation of the infant orphan was duly reported by the mouse was\n",
            "The hungry and destitute situation of the infant orphan was duly reported by this time to\n"
          ]
        }
      ]
    },
    {
      "cell_type": "code",
      "source": [],
      "metadata": {
        "id": "kQH8z-J7AeQJ"
      },
      "execution_count": null,
      "outputs": []
    },
    {
      "cell_type": "code",
      "source": [],
      "metadata": {
        "id": "rMaajKEvAcE9"
      },
      "execution_count": null,
      "outputs": []
    },
    {
      "cell_type": "code",
      "source": [],
      "metadata": {
        "id": "bg92JNA4AZKf"
      },
      "execution_count": null,
      "outputs": []
    },
    {
      "cell_type": "code",
      "source": [],
      "metadata": {
        "id": "ON3-NDpvATPP"
      },
      "execution_count": null,
      "outputs": []
    }
  ]
}